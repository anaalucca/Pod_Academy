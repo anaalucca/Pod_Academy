{
  "nbformat": 4,
  "nbformat_minor": 0,
  "metadata": {
    "colab": {
      "provenance": [],
      "authorship_tag": "ABX9TyMvcn1CpCqbd6C9GSUEhiGD",
      "include_colab_link": true
    },
    "kernelspec": {
      "name": "python3",
      "display_name": "Python 3"
    },
    "language_info": {
      "name": "python"
    },
    "widgets": {
      "application/vnd.jupyter.widget-state+json": {
        "6f8f0fbf38724b6a81d8ebf6f730f5b0": {
          "model_module": "@jupyter-widgets/controls",
          "model_name": "VBoxModel",
          "model_module_version": "1.5.0",
          "state": {
            "_dom_classes": [
              "widget-interact"
            ],
            "_model_module": "@jupyter-widgets/controls",
            "_model_module_version": "1.5.0",
            "_model_name": "VBoxModel",
            "_view_count": null,
            "_view_module": "@jupyter-widgets/controls",
            "_view_module_version": "1.5.0",
            "_view_name": "VBoxView",
            "box_style": "",
            "children": [
              "IPY_MODEL_30e5938be3f148368c1ef3cfb77b6637",
              "IPY_MODEL_6a0243e75cf04161847bd9311fb6cde1",
              "IPY_MODEL_0e8c1662def04030949fef277d541043",
              "IPY_MODEL_339830e5a05a495a839fc6bfbf70a971",
              "IPY_MODEL_03684eab9407490fb14c7b4bc22ec0ff",
              "IPY_MODEL_05093c552ece4ba29903688d712769ae"
            ],
            "layout": "IPY_MODEL_28cd911641f545b4a1f7d48b6d71d5ee"
          }
        },
        "30e5938be3f148368c1ef3cfb77b6637": {
          "model_module": "@jupyter-widgets/controls",
          "model_name": "FloatSliderModel",
          "model_module_version": "1.5.0",
          "state": {
            "_dom_classes": [],
            "_model_module": "@jupyter-widgets/controls",
            "_model_module_version": "1.5.0",
            "_model_name": "FloatSliderModel",
            "_view_count": null,
            "_view_module": "@jupyter-widgets/controls",
            "_view_module_version": "1.5.0",
            "_view_name": "FloatSliderView",
            "continuous_update": true,
            "description": "m",
            "description_tooltip": null,
            "disabled": false,
            "layout": "IPY_MODEL_4469d9cd18174aff94fd4488f9463cd6",
            "max": 5,
            "min": -5,
            "orientation": "horizontal",
            "readout": true,
            "readout_format": ".2f",
            "step": 0.5,
            "style": "IPY_MODEL_a88f3a50f7cb41dcbc88e2a75959c29a",
            "value": 0
          }
        },
        "6a0243e75cf04161847bd9311fb6cde1": {
          "model_module": "@jupyter-widgets/controls",
          "model_name": "FloatSliderModel",
          "model_module_version": "1.5.0",
          "state": {
            "_dom_classes": [],
            "_model_module": "@jupyter-widgets/controls",
            "_model_module_version": "1.5.0",
            "_model_name": "FloatSliderModel",
            "_view_count": null,
            "_view_module": "@jupyter-widgets/controls",
            "_view_module_version": "1.5.0",
            "_view_name": "FloatSliderView",
            "continuous_update": true,
            "description": "b",
            "description_tooltip": null,
            "disabled": false,
            "layout": "IPY_MODEL_02faf22264ca4d27a79f889eceedc0eb",
            "max": 5,
            "min": -5,
            "orientation": "horizontal",
            "readout": true,
            "readout_format": ".2f",
            "step": 0.5,
            "style": "IPY_MODEL_ba73701e016c4905aed00ff8e0056371",
            "value": 0
          }
        },
        "0e8c1662def04030949fef277d541043": {
          "model_module": "@jupyter-widgets/controls",
          "model_name": "IntSliderModel",
          "model_module_version": "1.5.0",
          "state": {
            "_dom_classes": [],
            "_model_module": "@jupyter-widgets/controls",
            "_model_module_version": "1.5.0",
            "_model_name": "IntSliderModel",
            "_view_count": null,
            "_view_module": "@jupyter-widgets/controls",
            "_view_module_version": "1.5.0",
            "_view_name": "IntSliderView",
            "continuous_update": true,
            "description": "figsize",
            "description_tooltip": null,
            "disabled": false,
            "layout": "IPY_MODEL_2cde94f7d0554b19b2b6d9c4a10becdd",
            "max": 20,
            "min": 5,
            "orientation": "horizontal",
            "readout": true,
            "readout_format": "d",
            "step": 1,
            "style": "IPY_MODEL_1296c034b43646769008701d972d24c1",
            "value": 12
          }
        },
        "339830e5a05a495a839fc6bfbf70a971": {
          "model_module": "@jupyter-widgets/controls",
          "model_name": "FloatSliderModel",
          "model_module_version": "1.5.0",
          "state": {
            "_dom_classes": [],
            "_model_module": "@jupyter-widgets/controls",
            "_model_module_version": "1.5.0",
            "_model_name": "FloatSliderModel",
            "_view_count": null,
            "_view_module": "@jupyter-widgets/controls",
            "_view_module_version": "1.5.0",
            "_view_name": "FloatSliderView",
            "continuous_update": true,
            "description": "linewidth",
            "description_tooltip": null,
            "disabled": false,
            "layout": "IPY_MODEL_6c51db5c80374f3cb13b7f466328b513",
            "max": 5,
            "min": 0.5,
            "orientation": "horizontal",
            "readout": true,
            "readout_format": ".2f",
            "step": 0.5,
            "style": "IPY_MODEL_1b497a987bc24fe7b544365495685065",
            "value": 2.5
          }
        },
        "03684eab9407490fb14c7b4bc22ec0ff": {
          "model_module": "@jupyter-widgets/controls",
          "model_name": "IntSliderModel",
          "model_module_version": "1.5.0",
          "state": {
            "_dom_classes": [],
            "_model_module": "@jupyter-widgets/controls",
            "_model_module_version": "1.5.0",
            "_model_name": "IntSliderModel",
            "_view_count": null,
            "_view_module": "@jupyter-widgets/controls",
            "_view_module_version": "1.5.0",
            "_view_name": "IntSliderView",
            "continuous_update": true,
            "description": "fontsize",
            "description_tooltip": null,
            "disabled": false,
            "layout": "IPY_MODEL_e97c0727ba5245758cdf27303074661a",
            "max": 20,
            "min": 10,
            "orientation": "horizontal",
            "readout": true,
            "readout_format": "d",
            "step": 2,
            "style": "IPY_MODEL_35093c6f6bae44169748bb6e5b12e640",
            "value": 14
          }
        },
        "05093c552ece4ba29903688d712769ae": {
          "model_module": "@jupyter-widgets/output",
          "model_name": "OutputModel",
          "model_module_version": "1.0.0",
          "state": {
            "_dom_classes": [],
            "_model_module": "@jupyter-widgets/output",
            "_model_module_version": "1.0.0",
            "_model_name": "OutputModel",
            "_view_count": null,
            "_view_module": "@jupyter-widgets/output",
            "_view_module_version": "1.0.0",
            "_view_name": "OutputView",
            "layout": "IPY_MODEL_da59e58e1f3749f6ad760960f8d2b8ac",
            "msg_id": "",
            "outputs": [
              {
                "output_type": "display_data",
                "data": {
                  "text/plain": "<Figure size 864x864 with 1 Axes>",
                  "image/png": "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\n"
                },
                "metadata": {
                  "needs_background": "light"
                }
              }
            ]
          }
        },
        "28cd911641f545b4a1f7d48b6d71d5ee": {
          "model_module": "@jupyter-widgets/base",
          "model_name": "LayoutModel",
          "model_module_version": "1.2.0",
          "state": {
            "_model_module": "@jupyter-widgets/base",
            "_model_module_version": "1.2.0",
            "_model_name": "LayoutModel",
            "_view_count": null,
            "_view_module": "@jupyter-widgets/base",
            "_view_module_version": "1.2.0",
            "_view_name": "LayoutView",
            "align_content": null,
            "align_items": null,
            "align_self": null,
            "border": null,
            "bottom": null,
            "display": null,
            "flex": null,
            "flex_flow": null,
            "grid_area": null,
            "grid_auto_columns": null,
            "grid_auto_flow": null,
            "grid_auto_rows": null,
            "grid_column": null,
            "grid_gap": null,
            "grid_row": null,
            "grid_template_areas": null,
            "grid_template_columns": null,
            "grid_template_rows": null,
            "height": null,
            "justify_content": null,
            "justify_items": null,
            "left": null,
            "margin": null,
            "max_height": null,
            "max_width": null,
            "min_height": null,
            "min_width": null,
            "object_fit": null,
            "object_position": null,
            "order": null,
            "overflow": null,
            "overflow_x": null,
            "overflow_y": null,
            "padding": null,
            "right": null,
            "top": null,
            "visibility": null,
            "width": null
          }
        },
        "4469d9cd18174aff94fd4488f9463cd6": {
          "model_module": "@jupyter-widgets/base",
          "model_name": "LayoutModel",
          "model_module_version": "1.2.0",
          "state": {
            "_model_module": "@jupyter-widgets/base",
            "_model_module_version": "1.2.0",
            "_model_name": "LayoutModel",
            "_view_count": null,
            "_view_module": "@jupyter-widgets/base",
            "_view_module_version": "1.2.0",
            "_view_name": "LayoutView",
            "align_content": null,
            "align_items": null,
            "align_self": null,
            "border": null,
            "bottom": null,
            "display": null,
            "flex": null,
            "flex_flow": null,
            "grid_area": null,
            "grid_auto_columns": null,
            "grid_auto_flow": null,
            "grid_auto_rows": null,
            "grid_column": null,
            "grid_gap": null,
            "grid_row": null,
            "grid_template_areas": null,
            "grid_template_columns": null,
            "grid_template_rows": null,
            "height": null,
            "justify_content": null,
            "justify_items": null,
            "left": null,
            "margin": null,
            "max_height": null,
            "max_width": null,
            "min_height": null,
            "min_width": null,
            "object_fit": null,
            "object_position": null,
            "order": null,
            "overflow": null,
            "overflow_x": null,
            "overflow_y": null,
            "padding": null,
            "right": null,
            "top": null,
            "visibility": null,
            "width": null
          }
        },
        "a88f3a50f7cb41dcbc88e2a75959c29a": {
          "model_module": "@jupyter-widgets/controls",
          "model_name": "SliderStyleModel",
          "model_module_version": "1.5.0",
          "state": {
            "_model_module": "@jupyter-widgets/controls",
            "_model_module_version": "1.5.0",
            "_model_name": "SliderStyleModel",
            "_view_count": null,
            "_view_module": "@jupyter-widgets/base",
            "_view_module_version": "1.2.0",
            "_view_name": "StyleView",
            "description_width": "",
            "handle_color": null
          }
        },
        "02faf22264ca4d27a79f889eceedc0eb": {
          "model_module": "@jupyter-widgets/base",
          "model_name": "LayoutModel",
          "model_module_version": "1.2.0",
          "state": {
            "_model_module": "@jupyter-widgets/base",
            "_model_module_version": "1.2.0",
            "_model_name": "LayoutModel",
            "_view_count": null,
            "_view_module": "@jupyter-widgets/base",
            "_view_module_version": "1.2.0",
            "_view_name": "LayoutView",
            "align_content": null,
            "align_items": null,
            "align_self": null,
            "border": null,
            "bottom": null,
            "display": null,
            "flex": null,
            "flex_flow": null,
            "grid_area": null,
            "grid_auto_columns": null,
            "grid_auto_flow": null,
            "grid_auto_rows": null,
            "grid_column": null,
            "grid_gap": null,
            "grid_row": null,
            "grid_template_areas": null,
            "grid_template_columns": null,
            "grid_template_rows": null,
            "height": null,
            "justify_content": null,
            "justify_items": null,
            "left": null,
            "margin": null,
            "max_height": null,
            "max_width": null,
            "min_height": null,
            "min_width": null,
            "object_fit": null,
            "object_position": null,
            "order": null,
            "overflow": null,
            "overflow_x": null,
            "overflow_y": null,
            "padding": null,
            "right": null,
            "top": null,
            "visibility": null,
            "width": null
          }
        },
        "ba73701e016c4905aed00ff8e0056371": {
          "model_module": "@jupyter-widgets/controls",
          "model_name": "SliderStyleModel",
          "model_module_version": "1.5.0",
          "state": {
            "_model_module": "@jupyter-widgets/controls",
            "_model_module_version": "1.5.0",
            "_model_name": "SliderStyleModel",
            "_view_count": null,
            "_view_module": "@jupyter-widgets/base",
            "_view_module_version": "1.2.0",
            "_view_name": "StyleView",
            "description_width": "",
            "handle_color": null
          }
        },
        "2cde94f7d0554b19b2b6d9c4a10becdd": {
          "model_module": "@jupyter-widgets/base",
          "model_name": "LayoutModel",
          "model_module_version": "1.2.0",
          "state": {
            "_model_module": "@jupyter-widgets/base",
            "_model_module_version": "1.2.0",
            "_model_name": "LayoutModel",
            "_view_count": null,
            "_view_module": "@jupyter-widgets/base",
            "_view_module_version": "1.2.0",
            "_view_name": "LayoutView",
            "align_content": null,
            "align_items": null,
            "align_self": null,
            "border": null,
            "bottom": null,
            "display": null,
            "flex": null,
            "flex_flow": null,
            "grid_area": null,
            "grid_auto_columns": null,
            "grid_auto_flow": null,
            "grid_auto_rows": null,
            "grid_column": null,
            "grid_gap": null,
            "grid_row": null,
            "grid_template_areas": null,
            "grid_template_columns": null,
            "grid_template_rows": null,
            "height": null,
            "justify_content": null,
            "justify_items": null,
            "left": null,
            "margin": null,
            "max_height": null,
            "max_width": null,
            "min_height": null,
            "min_width": null,
            "object_fit": null,
            "object_position": null,
            "order": null,
            "overflow": null,
            "overflow_x": null,
            "overflow_y": null,
            "padding": null,
            "right": null,
            "top": null,
            "visibility": null,
            "width": null
          }
        },
        "1296c034b43646769008701d972d24c1": {
          "model_module": "@jupyter-widgets/controls",
          "model_name": "SliderStyleModel",
          "model_module_version": "1.5.0",
          "state": {
            "_model_module": "@jupyter-widgets/controls",
            "_model_module_version": "1.5.0",
            "_model_name": "SliderStyleModel",
            "_view_count": null,
            "_view_module": "@jupyter-widgets/base",
            "_view_module_version": "1.2.0",
            "_view_name": "StyleView",
            "description_width": "",
            "handle_color": null
          }
        },
        "6c51db5c80374f3cb13b7f466328b513": {
          "model_module": "@jupyter-widgets/base",
          "model_name": "LayoutModel",
          "model_module_version": "1.2.0",
          "state": {
            "_model_module": "@jupyter-widgets/base",
            "_model_module_version": "1.2.0",
            "_model_name": "LayoutModel",
            "_view_count": null,
            "_view_module": "@jupyter-widgets/base",
            "_view_module_version": "1.2.0",
            "_view_name": "LayoutView",
            "align_content": null,
            "align_items": null,
            "align_self": null,
            "border": null,
            "bottom": null,
            "display": null,
            "flex": null,
            "flex_flow": null,
            "grid_area": null,
            "grid_auto_columns": null,
            "grid_auto_flow": null,
            "grid_auto_rows": null,
            "grid_column": null,
            "grid_gap": null,
            "grid_row": null,
            "grid_template_areas": null,
            "grid_template_columns": null,
            "grid_template_rows": null,
            "height": null,
            "justify_content": null,
            "justify_items": null,
            "left": null,
            "margin": null,
            "max_height": null,
            "max_width": null,
            "min_height": null,
            "min_width": null,
            "object_fit": null,
            "object_position": null,
            "order": null,
            "overflow": null,
            "overflow_x": null,
            "overflow_y": null,
            "padding": null,
            "right": null,
            "top": null,
            "visibility": null,
            "width": null
          }
        },
        "1b497a987bc24fe7b544365495685065": {
          "model_module": "@jupyter-widgets/controls",
          "model_name": "SliderStyleModel",
          "model_module_version": "1.5.0",
          "state": {
            "_model_module": "@jupyter-widgets/controls",
            "_model_module_version": "1.5.0",
            "_model_name": "SliderStyleModel",
            "_view_count": null,
            "_view_module": "@jupyter-widgets/base",
            "_view_module_version": "1.2.0",
            "_view_name": "StyleView",
            "description_width": "",
            "handle_color": null
          }
        },
        "e97c0727ba5245758cdf27303074661a": {
          "model_module": "@jupyter-widgets/base",
          "model_name": "LayoutModel",
          "model_module_version": "1.2.0",
          "state": {
            "_model_module": "@jupyter-widgets/base",
            "_model_module_version": "1.2.0",
            "_model_name": "LayoutModel",
            "_view_count": null,
            "_view_module": "@jupyter-widgets/base",
            "_view_module_version": "1.2.0",
            "_view_name": "LayoutView",
            "align_content": null,
            "align_items": null,
            "align_self": null,
            "border": null,
            "bottom": null,
            "display": null,
            "flex": null,
            "flex_flow": null,
            "grid_area": null,
            "grid_auto_columns": null,
            "grid_auto_flow": null,
            "grid_auto_rows": null,
            "grid_column": null,
            "grid_gap": null,
            "grid_row": null,
            "grid_template_areas": null,
            "grid_template_columns": null,
            "grid_template_rows": null,
            "height": null,
            "justify_content": null,
            "justify_items": null,
            "left": null,
            "margin": null,
            "max_height": null,
            "max_width": null,
            "min_height": null,
            "min_width": null,
            "object_fit": null,
            "object_position": null,
            "order": null,
            "overflow": null,
            "overflow_x": null,
            "overflow_y": null,
            "padding": null,
            "right": null,
            "top": null,
            "visibility": null,
            "width": null
          }
        },
        "35093c6f6bae44169748bb6e5b12e640": {
          "model_module": "@jupyter-widgets/controls",
          "model_name": "SliderStyleModel",
          "model_module_version": "1.5.0",
          "state": {
            "_model_module": "@jupyter-widgets/controls",
            "_model_module_version": "1.5.0",
            "_model_name": "SliderStyleModel",
            "_view_count": null,
            "_view_module": "@jupyter-widgets/base",
            "_view_module_version": "1.2.0",
            "_view_name": "StyleView",
            "description_width": "",
            "handle_color": null
          }
        },
        "da59e58e1f3749f6ad760960f8d2b8ac": {
          "model_module": "@jupyter-widgets/base",
          "model_name": "LayoutModel",
          "model_module_version": "1.2.0",
          "state": {
            "_model_module": "@jupyter-widgets/base",
            "_model_module_version": "1.2.0",
            "_model_name": "LayoutModel",
            "_view_count": null,
            "_view_module": "@jupyter-widgets/base",
            "_view_module_version": "1.2.0",
            "_view_name": "LayoutView",
            "align_content": null,
            "align_items": null,
            "align_self": null,
            "border": null,
            "bottom": null,
            "display": null,
            "flex": null,
            "flex_flow": null,
            "grid_area": null,
            "grid_auto_columns": null,
            "grid_auto_flow": null,
            "grid_auto_rows": null,
            "grid_column": null,
            "grid_gap": null,
            "grid_row": null,
            "grid_template_areas": null,
            "grid_template_columns": null,
            "grid_template_rows": null,
            "height": null,
            "justify_content": null,
            "justify_items": null,
            "left": null,
            "margin": null,
            "max_height": null,
            "max_width": null,
            "min_height": null,
            "min_width": null,
            "object_fit": null,
            "object_position": null,
            "order": null,
            "overflow": null,
            "overflow_x": null,
            "overflow_y": null,
            "padding": null,
            "right": null,
            "top": null,
            "visibility": null,
            "width": null
          }
        },
        "31cf3536996b4b0089758355b136e785": {
          "model_module": "@jupyter-widgets/controls",
          "model_name": "VBoxModel",
          "model_module_version": "1.5.0",
          "state": {
            "_dom_classes": [
              "widget-interact"
            ],
            "_model_module": "@jupyter-widgets/controls",
            "_model_module_version": "1.5.0",
            "_model_name": "VBoxModel",
            "_view_count": null,
            "_view_module": "@jupyter-widgets/controls",
            "_view_module_version": "1.5.0",
            "_view_name": "VBoxView",
            "box_style": "",
            "children": [
              "IPY_MODEL_8033dfaeff634fb3b71f4a0e69971284",
              "IPY_MODEL_2f8bd259d71942afa4d6110f3cce3f38",
              "IPY_MODEL_df716330eb37479da779a3b0d5cceeb3",
              "IPY_MODEL_fd5ca9930e0c4e0d9c21ff4987d79b24",
              "IPY_MODEL_315ed807c33147ae891c288a4a4c2d4b",
              "IPY_MODEL_e08d8f1b066f4bf1a603b75d82d1e246",
              "IPY_MODEL_270e8cdbf34b4e2ba77e5999b32211f9"
            ],
            "layout": "IPY_MODEL_da1935fedbff4fc49ac89e91a76cafc6"
          }
        },
        "8033dfaeff634fb3b71f4a0e69971284": {
          "model_module": "@jupyter-widgets/controls",
          "model_name": "FloatSliderModel",
          "model_module_version": "1.5.0",
          "state": {
            "_dom_classes": [],
            "_model_module": "@jupyter-widgets/controls",
            "_model_module_version": "1.5.0",
            "_model_name": "FloatSliderModel",
            "_view_count": null,
            "_view_module": "@jupyter-widgets/controls",
            "_view_module_version": "1.5.0",
            "_view_name": "FloatSliderView",
            "continuous_update": true,
            "description": "a",
            "description_tooltip": null,
            "disabled": false,
            "layout": "IPY_MODEL_015a90f5fd644bd9b7a7b4caa8ed4570",
            "max": 5,
            "min": -5,
            "orientation": "horizontal",
            "readout": true,
            "readout_format": ".2f",
            "step": 0.5,
            "style": "IPY_MODEL_fcf2198fb9e24288bac7b4f5175bea12",
            "value": 0
          }
        },
        "2f8bd259d71942afa4d6110f3cce3f38": {
          "model_module": "@jupyter-widgets/controls",
          "model_name": "FloatSliderModel",
          "model_module_version": "1.5.0",
          "state": {
            "_dom_classes": [],
            "_model_module": "@jupyter-widgets/controls",
            "_model_module_version": "1.5.0",
            "_model_name": "FloatSliderModel",
            "_view_count": null,
            "_view_module": "@jupyter-widgets/controls",
            "_view_module_version": "1.5.0",
            "_view_name": "FloatSliderView",
            "continuous_update": true,
            "description": "b",
            "description_tooltip": null,
            "disabled": false,
            "layout": "IPY_MODEL_9c4a61044362486f90c7f3cd168a5a1b",
            "max": 5,
            "min": -5,
            "orientation": "horizontal",
            "readout": true,
            "readout_format": ".2f",
            "step": 0.5,
            "style": "IPY_MODEL_a82c84d5460143ab9c14e843ad8a4bdb",
            "value": 0
          }
        },
        "df716330eb37479da779a3b0d5cceeb3": {
          "model_module": "@jupyter-widgets/controls",
          "model_name": "FloatSliderModel",
          "model_module_version": "1.5.0",
          "state": {
            "_dom_classes": [],
            "_model_module": "@jupyter-widgets/controls",
            "_model_module_version": "1.5.0",
            "_model_name": "FloatSliderModel",
            "_view_count": null,
            "_view_module": "@jupyter-widgets/controls",
            "_view_module_version": "1.5.0",
            "_view_name": "FloatSliderView",
            "continuous_update": true,
            "description": "c",
            "description_tooltip": null,
            "disabled": false,
            "layout": "IPY_MODEL_5139be22ec734b4e9092fc31e4e04365",
            "max": 5,
            "min": -5,
            "orientation": "horizontal",
            "readout": true,
            "readout_format": ".2f",
            "step": 0.5,
            "style": "IPY_MODEL_1a8de915ade843cfb9da03bc8d914bad",
            "value": 0
          }
        },
        "fd5ca9930e0c4e0d9c21ff4987d79b24": {
          "model_module": "@jupyter-widgets/controls",
          "model_name": "IntSliderModel",
          "model_module_version": "1.5.0",
          "state": {
            "_dom_classes": [],
            "_model_module": "@jupyter-widgets/controls",
            "_model_module_version": "1.5.0",
            "_model_name": "IntSliderModel",
            "_view_count": null,
            "_view_module": "@jupyter-widgets/controls",
            "_view_module_version": "1.5.0",
            "_view_name": "IntSliderView",
            "continuous_update": true,
            "description": "figsize",
            "description_tooltip": null,
            "disabled": false,
            "layout": "IPY_MODEL_338bef00e25c47fca1237df448658dfc",
            "max": 20,
            "min": 5,
            "orientation": "horizontal",
            "readout": true,
            "readout_format": "d",
            "step": 1,
            "style": "IPY_MODEL_eaa0797df0e546baa59ee72b0906ee6c",
            "value": 12
          }
        },
        "315ed807c33147ae891c288a4a4c2d4b": {
          "model_module": "@jupyter-widgets/controls",
          "model_name": "FloatSliderModel",
          "model_module_version": "1.5.0",
          "state": {
            "_dom_classes": [],
            "_model_module": "@jupyter-widgets/controls",
            "_model_module_version": "1.5.0",
            "_model_name": "FloatSliderModel",
            "_view_count": null,
            "_view_module": "@jupyter-widgets/controls",
            "_view_module_version": "1.5.0",
            "_view_name": "FloatSliderView",
            "continuous_update": true,
            "description": "linewidth",
            "description_tooltip": null,
            "disabled": false,
            "layout": "IPY_MODEL_2ea00bbd36834cb580d05a5f79462db3",
            "max": 5,
            "min": 0.5,
            "orientation": "horizontal",
            "readout": true,
            "readout_format": ".2f",
            "step": 0.5,
            "style": "IPY_MODEL_ff9fbc1d948042238ba353e364b249cf",
            "value": 2.5
          }
        },
        "e08d8f1b066f4bf1a603b75d82d1e246": {
          "model_module": "@jupyter-widgets/controls",
          "model_name": "IntSliderModel",
          "model_module_version": "1.5.0",
          "state": {
            "_dom_classes": [],
            "_model_module": "@jupyter-widgets/controls",
            "_model_module_version": "1.5.0",
            "_model_name": "IntSliderModel",
            "_view_count": null,
            "_view_module": "@jupyter-widgets/controls",
            "_view_module_version": "1.5.0",
            "_view_name": "IntSliderView",
            "continuous_update": true,
            "description": "fontsize",
            "description_tooltip": null,
            "disabled": false,
            "layout": "IPY_MODEL_3d5ff14a44d94cd08791017d9045c145",
            "max": 20,
            "min": 10,
            "orientation": "horizontal",
            "readout": true,
            "readout_format": "d",
            "step": 2,
            "style": "IPY_MODEL_ef1a6ca3e1ea4421b53b107a1fbb87d0",
            "value": 14
          }
        },
        "270e8cdbf34b4e2ba77e5999b32211f9": {
          "model_module": "@jupyter-widgets/output",
          "model_name": "OutputModel",
          "model_module_version": "1.0.0",
          "state": {
            "_dom_classes": [],
            "_model_module": "@jupyter-widgets/output",
            "_model_module_version": "1.0.0",
            "_model_name": "OutputModel",
            "_view_count": null,
            "_view_module": "@jupyter-widgets/output",
            "_view_module_version": "1.0.0",
            "_view_name": "OutputView",
            "layout": "IPY_MODEL_9077145acc544923842d2c738c85dfe9",
            "msg_id": "",
            "outputs": [
              {
                "output_type": "display_data",
                "data": {
                  "text/plain": "<Figure size 864x864 with 1 Axes>",
                  "image/png": "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\n"
                },
                "metadata": {
                  "needs_background": "light"
                }
              }
            ]
          }
        },
        "da1935fedbff4fc49ac89e91a76cafc6": {
          "model_module": "@jupyter-widgets/base",
          "model_name": "LayoutModel",
          "model_module_version": "1.2.0",
          "state": {
            "_model_module": "@jupyter-widgets/base",
            "_model_module_version": "1.2.0",
            "_model_name": "LayoutModel",
            "_view_count": null,
            "_view_module": "@jupyter-widgets/base",
            "_view_module_version": "1.2.0",
            "_view_name": "LayoutView",
            "align_content": null,
            "align_items": null,
            "align_self": null,
            "border": null,
            "bottom": null,
            "display": null,
            "flex": null,
            "flex_flow": null,
            "grid_area": null,
            "grid_auto_columns": null,
            "grid_auto_flow": null,
            "grid_auto_rows": null,
            "grid_column": null,
            "grid_gap": null,
            "grid_row": null,
            "grid_template_areas": null,
            "grid_template_columns": null,
            "grid_template_rows": null,
            "height": null,
            "justify_content": null,
            "justify_items": null,
            "left": null,
            "margin": null,
            "max_height": null,
            "max_width": null,
            "min_height": null,
            "min_width": null,
            "object_fit": null,
            "object_position": null,
            "order": null,
            "overflow": null,
            "overflow_x": null,
            "overflow_y": null,
            "padding": null,
            "right": null,
            "top": null,
            "visibility": null,
            "width": null
          }
        },
        "015a90f5fd644bd9b7a7b4caa8ed4570": {
          "model_module": "@jupyter-widgets/base",
          "model_name": "LayoutModel",
          "model_module_version": "1.2.0",
          "state": {
            "_model_module": "@jupyter-widgets/base",
            "_model_module_version": "1.2.0",
            "_model_name": "LayoutModel",
            "_view_count": null,
            "_view_module": "@jupyter-widgets/base",
            "_view_module_version": "1.2.0",
            "_view_name": "LayoutView",
            "align_content": null,
            "align_items": null,
            "align_self": null,
            "border": null,
            "bottom": null,
            "display": null,
            "flex": null,
            "flex_flow": null,
            "grid_area": null,
            "grid_auto_columns": null,
            "grid_auto_flow": null,
            "grid_auto_rows": null,
            "grid_column": null,
            "grid_gap": null,
            "grid_row": null,
            "grid_template_areas": null,
            "grid_template_columns": null,
            "grid_template_rows": null,
            "height": null,
            "justify_content": null,
            "justify_items": null,
            "left": null,
            "margin": null,
            "max_height": null,
            "max_width": null,
            "min_height": null,
            "min_width": null,
            "object_fit": null,
            "object_position": null,
            "order": null,
            "overflow": null,
            "overflow_x": null,
            "overflow_y": null,
            "padding": null,
            "right": null,
            "top": null,
            "visibility": null,
            "width": null
          }
        },
        "fcf2198fb9e24288bac7b4f5175bea12": {
          "model_module": "@jupyter-widgets/controls",
          "model_name": "SliderStyleModel",
          "model_module_version": "1.5.0",
          "state": {
            "_model_module": "@jupyter-widgets/controls",
            "_model_module_version": "1.5.0",
            "_model_name": "SliderStyleModel",
            "_view_count": null,
            "_view_module": "@jupyter-widgets/base",
            "_view_module_version": "1.2.0",
            "_view_name": "StyleView",
            "description_width": "",
            "handle_color": null
          }
        },
        "9c4a61044362486f90c7f3cd168a5a1b": {
          "model_module": "@jupyter-widgets/base",
          "model_name": "LayoutModel",
          "model_module_version": "1.2.0",
          "state": {
            "_model_module": "@jupyter-widgets/base",
            "_model_module_version": "1.2.0",
            "_model_name": "LayoutModel",
            "_view_count": null,
            "_view_module": "@jupyter-widgets/base",
            "_view_module_version": "1.2.0",
            "_view_name": "LayoutView",
            "align_content": null,
            "align_items": null,
            "align_self": null,
            "border": null,
            "bottom": null,
            "display": null,
            "flex": null,
            "flex_flow": null,
            "grid_area": null,
            "grid_auto_columns": null,
            "grid_auto_flow": null,
            "grid_auto_rows": null,
            "grid_column": null,
            "grid_gap": null,
            "grid_row": null,
            "grid_template_areas": null,
            "grid_template_columns": null,
            "grid_template_rows": null,
            "height": null,
            "justify_content": null,
            "justify_items": null,
            "left": null,
            "margin": null,
            "max_height": null,
            "max_width": null,
            "min_height": null,
            "min_width": null,
            "object_fit": null,
            "object_position": null,
            "order": null,
            "overflow": null,
            "overflow_x": null,
            "overflow_y": null,
            "padding": null,
            "right": null,
            "top": null,
            "visibility": null,
            "width": null
          }
        },
        "a82c84d5460143ab9c14e843ad8a4bdb": {
          "model_module": "@jupyter-widgets/controls",
          "model_name": "SliderStyleModel",
          "model_module_version": "1.5.0",
          "state": {
            "_model_module": "@jupyter-widgets/controls",
            "_model_module_version": "1.5.0",
            "_model_name": "SliderStyleModel",
            "_view_count": null,
            "_view_module": "@jupyter-widgets/base",
            "_view_module_version": "1.2.0",
            "_view_name": "StyleView",
            "description_width": "",
            "handle_color": null
          }
        },
        "5139be22ec734b4e9092fc31e4e04365": {
          "model_module": "@jupyter-widgets/base",
          "model_name": "LayoutModel",
          "model_module_version": "1.2.0",
          "state": {
            "_model_module": "@jupyter-widgets/base",
            "_model_module_version": "1.2.0",
            "_model_name": "LayoutModel",
            "_view_count": null,
            "_view_module": "@jupyter-widgets/base",
            "_view_module_version": "1.2.0",
            "_view_name": "LayoutView",
            "align_content": null,
            "align_items": null,
            "align_self": null,
            "border": null,
            "bottom": null,
            "display": null,
            "flex": null,
            "flex_flow": null,
            "grid_area": null,
            "grid_auto_columns": null,
            "grid_auto_flow": null,
            "grid_auto_rows": null,
            "grid_column": null,
            "grid_gap": null,
            "grid_row": null,
            "grid_template_areas": null,
            "grid_template_columns": null,
            "grid_template_rows": null,
            "height": null,
            "justify_content": null,
            "justify_items": null,
            "left": null,
            "margin": null,
            "max_height": null,
            "max_width": null,
            "min_height": null,
            "min_width": null,
            "object_fit": null,
            "object_position": null,
            "order": null,
            "overflow": null,
            "overflow_x": null,
            "overflow_y": null,
            "padding": null,
            "right": null,
            "top": null,
            "visibility": null,
            "width": null
          }
        },
        "1a8de915ade843cfb9da03bc8d914bad": {
          "model_module": "@jupyter-widgets/controls",
          "model_name": "SliderStyleModel",
          "model_module_version": "1.5.0",
          "state": {
            "_model_module": "@jupyter-widgets/controls",
            "_model_module_version": "1.5.0",
            "_model_name": "SliderStyleModel",
            "_view_count": null,
            "_view_module": "@jupyter-widgets/base",
            "_view_module_version": "1.2.0",
            "_view_name": "StyleView",
            "description_width": "",
            "handle_color": null
          }
        },
        "338bef00e25c47fca1237df448658dfc": {
          "model_module": "@jupyter-widgets/base",
          "model_name": "LayoutModel",
          "model_module_version": "1.2.0",
          "state": {
            "_model_module": "@jupyter-widgets/base",
            "_model_module_version": "1.2.0",
            "_model_name": "LayoutModel",
            "_view_count": null,
            "_view_module": "@jupyter-widgets/base",
            "_view_module_version": "1.2.0",
            "_view_name": "LayoutView",
            "align_content": null,
            "align_items": null,
            "align_self": null,
            "border": null,
            "bottom": null,
            "display": null,
            "flex": null,
            "flex_flow": null,
            "grid_area": null,
            "grid_auto_columns": null,
            "grid_auto_flow": null,
            "grid_auto_rows": null,
            "grid_column": null,
            "grid_gap": null,
            "grid_row": null,
            "grid_template_areas": null,
            "grid_template_columns": null,
            "grid_template_rows": null,
            "height": null,
            "justify_content": null,
            "justify_items": null,
            "left": null,
            "margin": null,
            "max_height": null,
            "max_width": null,
            "min_height": null,
            "min_width": null,
            "object_fit": null,
            "object_position": null,
            "order": null,
            "overflow": null,
            "overflow_x": null,
            "overflow_y": null,
            "padding": null,
            "right": null,
            "top": null,
            "visibility": null,
            "width": null
          }
        },
        "eaa0797df0e546baa59ee72b0906ee6c": {
          "model_module": "@jupyter-widgets/controls",
          "model_name": "SliderStyleModel",
          "model_module_version": "1.5.0",
          "state": {
            "_model_module": "@jupyter-widgets/controls",
            "_model_module_version": "1.5.0",
            "_model_name": "SliderStyleModel",
            "_view_count": null,
            "_view_module": "@jupyter-widgets/base",
            "_view_module_version": "1.2.0",
            "_view_name": "StyleView",
            "description_width": "",
            "handle_color": null
          }
        },
        "2ea00bbd36834cb580d05a5f79462db3": {
          "model_module": "@jupyter-widgets/base",
          "model_name": "LayoutModel",
          "model_module_version": "1.2.0",
          "state": {
            "_model_module": "@jupyter-widgets/base",
            "_model_module_version": "1.2.0",
            "_model_name": "LayoutModel",
            "_view_count": null,
            "_view_module": "@jupyter-widgets/base",
            "_view_module_version": "1.2.0",
            "_view_name": "LayoutView",
            "align_content": null,
            "align_items": null,
            "align_self": null,
            "border": null,
            "bottom": null,
            "display": null,
            "flex": null,
            "flex_flow": null,
            "grid_area": null,
            "grid_auto_columns": null,
            "grid_auto_flow": null,
            "grid_auto_rows": null,
            "grid_column": null,
            "grid_gap": null,
            "grid_row": null,
            "grid_template_areas": null,
            "grid_template_columns": null,
            "grid_template_rows": null,
            "height": null,
            "justify_content": null,
            "justify_items": null,
            "left": null,
            "margin": null,
            "max_height": null,
            "max_width": null,
            "min_height": null,
            "min_width": null,
            "object_fit": null,
            "object_position": null,
            "order": null,
            "overflow": null,
            "overflow_x": null,
            "overflow_y": null,
            "padding": null,
            "right": null,
            "top": null,
            "visibility": null,
            "width": null
          }
        },
        "ff9fbc1d948042238ba353e364b249cf": {
          "model_module": "@jupyter-widgets/controls",
          "model_name": "SliderStyleModel",
          "model_module_version": "1.5.0",
          "state": {
            "_model_module": "@jupyter-widgets/controls",
            "_model_module_version": "1.5.0",
            "_model_name": "SliderStyleModel",
            "_view_count": null,
            "_view_module": "@jupyter-widgets/base",
            "_view_module_version": "1.2.0",
            "_view_name": "StyleView",
            "description_width": "",
            "handle_color": null
          }
        },
        "3d5ff14a44d94cd08791017d9045c145": {
          "model_module": "@jupyter-widgets/base",
          "model_name": "LayoutModel",
          "model_module_version": "1.2.0",
          "state": {
            "_model_module": "@jupyter-widgets/base",
            "_model_module_version": "1.2.0",
            "_model_name": "LayoutModel",
            "_view_count": null,
            "_view_module": "@jupyter-widgets/base",
            "_view_module_version": "1.2.0",
            "_view_name": "LayoutView",
            "align_content": null,
            "align_items": null,
            "align_self": null,
            "border": null,
            "bottom": null,
            "display": null,
            "flex": null,
            "flex_flow": null,
            "grid_area": null,
            "grid_auto_columns": null,
            "grid_auto_flow": null,
            "grid_auto_rows": null,
            "grid_column": null,
            "grid_gap": null,
            "grid_row": null,
            "grid_template_areas": null,
            "grid_template_columns": null,
            "grid_template_rows": null,
            "height": null,
            "justify_content": null,
            "justify_items": null,
            "left": null,
            "margin": null,
            "max_height": null,
            "max_width": null,
            "min_height": null,
            "min_width": null,
            "object_fit": null,
            "object_position": null,
            "order": null,
            "overflow": null,
            "overflow_x": null,
            "overflow_y": null,
            "padding": null,
            "right": null,
            "top": null,
            "visibility": null,
            "width": null
          }
        },
        "ef1a6ca3e1ea4421b53b107a1fbb87d0": {
          "model_module": "@jupyter-widgets/controls",
          "model_name": "SliderStyleModel",
          "model_module_version": "1.5.0",
          "state": {
            "_model_module": "@jupyter-widgets/controls",
            "_model_module_version": "1.5.0",
            "_model_name": "SliderStyleModel",
            "_view_count": null,
            "_view_module": "@jupyter-widgets/base",
            "_view_module_version": "1.2.0",
            "_view_name": "StyleView",
            "description_width": "",
            "handle_color": null
          }
        },
        "9077145acc544923842d2c738c85dfe9": {
          "model_module": "@jupyter-widgets/base",
          "model_name": "LayoutModel",
          "model_module_version": "1.2.0",
          "state": {
            "_model_module": "@jupyter-widgets/base",
            "_model_module_version": "1.2.0",
            "_model_name": "LayoutModel",
            "_view_count": null,
            "_view_module": "@jupyter-widgets/base",
            "_view_module_version": "1.2.0",
            "_view_name": "LayoutView",
            "align_content": null,
            "align_items": null,
            "align_self": null,
            "border": null,
            "bottom": null,
            "display": null,
            "flex": null,
            "flex_flow": null,
            "grid_area": null,
            "grid_auto_columns": null,
            "grid_auto_flow": null,
            "grid_auto_rows": null,
            "grid_column": null,
            "grid_gap": null,
            "grid_row": null,
            "grid_template_areas": null,
            "grid_template_columns": null,
            "grid_template_rows": null,
            "height": null,
            "justify_content": null,
            "justify_items": null,
            "left": null,
            "margin": null,
            "max_height": null,
            "max_width": null,
            "min_height": null,
            "min_width": null,
            "object_fit": null,
            "object_position": null,
            "order": null,
            "overflow": null,
            "overflow_x": null,
            "overflow_y": null,
            "padding": null,
            "right": null,
            "top": null,
            "visibility": null,
            "width": null
          }
        },
        "e98e5f6c79af4b59bdb204a76ba6f5f3": {
          "model_module": "@jupyter-widgets/controls",
          "model_name": "VBoxModel",
          "model_module_version": "1.5.0",
          "state": {
            "_dom_classes": [
              "widget-interact"
            ],
            "_model_module": "@jupyter-widgets/controls",
            "_model_module_version": "1.5.0",
            "_model_name": "VBoxModel",
            "_view_count": null,
            "_view_module": "@jupyter-widgets/controls",
            "_view_module_version": "1.5.0",
            "_view_name": "VBoxView",
            "box_style": "",
            "children": [
              "IPY_MODEL_a90628ec61ad4bed9e5e82d2d749b79b",
              "IPY_MODEL_ff2c1776f2c94e248a8b40631c63dfe5",
              "IPY_MODEL_7a0d05918bb74190a76fa1585dc96b94",
              "IPY_MODEL_d4a3c0e9efbd492d8e68232996cb863a",
              "IPY_MODEL_ad5ce9f50aea4757af3947380a29999d",
              "IPY_MODEL_96c7a0ac04064594991282975228f2c6",
              "IPY_MODEL_29fbbd2a64964ad6ba48b1f8b77e1500",
              "IPY_MODEL_d2b145f792834fff98cdbc9e0ef4aff9"
            ],
            "layout": "IPY_MODEL_740597bf1e5c40bf86be988c57128824"
          }
        },
        "a90628ec61ad4bed9e5e82d2d749b79b": {
          "model_module": "@jupyter-widgets/controls",
          "model_name": "FloatSliderModel",
          "model_module_version": "1.5.0",
          "state": {
            "_dom_classes": [],
            "_model_module": "@jupyter-widgets/controls",
            "_model_module_version": "1.5.0",
            "_model_name": "FloatSliderModel",
            "_view_count": null,
            "_view_module": "@jupyter-widgets/controls",
            "_view_module_version": "1.5.0",
            "_view_name": "FloatSliderView",
            "continuous_update": true,
            "description": "a",
            "description_tooltip": null,
            "disabled": false,
            "layout": "IPY_MODEL_316f2f96f23149da83dde77b1697c33d",
            "max": 5,
            "min": -5,
            "orientation": "horizontal",
            "readout": true,
            "readout_format": ".2f",
            "step": 0.5,
            "style": "IPY_MODEL_736bee8ecd53485496fe39d64c0ba4b8",
            "value": 0
          }
        },
        "ff2c1776f2c94e248a8b40631c63dfe5": {
          "model_module": "@jupyter-widgets/controls",
          "model_name": "FloatSliderModel",
          "model_module_version": "1.5.0",
          "state": {
            "_dom_classes": [],
            "_model_module": "@jupyter-widgets/controls",
            "_model_module_version": "1.5.0",
            "_model_name": "FloatSliderModel",
            "_view_count": null,
            "_view_module": "@jupyter-widgets/controls",
            "_view_module_version": "1.5.0",
            "_view_name": "FloatSliderView",
            "continuous_update": true,
            "description": "b",
            "description_tooltip": null,
            "disabled": false,
            "layout": "IPY_MODEL_e36dc142d974457a81a8edc65350b893",
            "max": 5,
            "min": -5,
            "orientation": "horizontal",
            "readout": true,
            "readout_format": ".2f",
            "step": 0.1,
            "style": "IPY_MODEL_1c06eb81715f4a5fa1d24747a2f35f59",
            "value": 0
          }
        },
        "7a0d05918bb74190a76fa1585dc96b94": {
          "model_module": "@jupyter-widgets/controls",
          "model_name": "FloatSliderModel",
          "model_module_version": "1.5.0",
          "state": {
            "_dom_classes": [],
            "_model_module": "@jupyter-widgets/controls",
            "_model_module_version": "1.5.0",
            "_model_name": "FloatSliderModel",
            "_view_count": null,
            "_view_module": "@jupyter-widgets/controls",
            "_view_module_version": "1.5.0",
            "_view_name": "FloatSliderView",
            "continuous_update": true,
            "description": "c",
            "description_tooltip": null,
            "disabled": false,
            "layout": "IPY_MODEL_a3b451fb49d54eecba321da98b41cbe7",
            "max": 5,
            "min": -5,
            "orientation": "horizontal",
            "readout": true,
            "readout_format": ".2f",
            "step": 0.5,
            "style": "IPY_MODEL_d6683b8a83134ebfa45e1c4451e36656",
            "value": 0
          }
        },
        "d4a3c0e9efbd492d8e68232996cb863a": {
          "model_module": "@jupyter-widgets/controls",
          "model_name": "IntSliderModel",
          "model_module_version": "1.5.0",
          "state": {
            "_dom_classes": [],
            "_model_module": "@jupyter-widgets/controls",
            "_model_module_version": "1.5.0",
            "_model_name": "IntSliderModel",
            "_view_count": null,
            "_view_module": "@jupyter-widgets/controls",
            "_view_module_version": "1.5.0",
            "_view_name": "IntSliderView",
            "continuous_update": true,
            "description": "figsize",
            "description_tooltip": null,
            "disabled": false,
            "layout": "IPY_MODEL_e4ba216db3194c389843dfbc08507a0d",
            "max": 20,
            "min": 5,
            "orientation": "horizontal",
            "readout": true,
            "readout_format": "d",
            "step": 1,
            "style": "IPY_MODEL_a1d5d74e5e5c4e259b6cf6604a90b828",
            "value": 12
          }
        },
        "ad5ce9f50aea4757af3947380a29999d": {
          "model_module": "@jupyter-widgets/controls",
          "model_name": "FloatSliderModel",
          "model_module_version": "1.5.0",
          "state": {
            "_dom_classes": [],
            "_model_module": "@jupyter-widgets/controls",
            "_model_module_version": "1.5.0",
            "_model_name": "FloatSliderModel",
            "_view_count": null,
            "_view_module": "@jupyter-widgets/controls",
            "_view_module_version": "1.5.0",
            "_view_name": "FloatSliderView",
            "continuous_update": true,
            "description": "linewidth",
            "description_tooltip": null,
            "disabled": false,
            "layout": "IPY_MODEL_e0d6ec9eb96c43d880e404b097850567",
            "max": 5,
            "min": 0.5,
            "orientation": "horizontal",
            "readout": true,
            "readout_format": ".2f",
            "step": 0.5,
            "style": "IPY_MODEL_bbe4baa882484cc095134bc4961bd347",
            "value": 2.5
          }
        },
        "96c7a0ac04064594991282975228f2c6": {
          "model_module": "@jupyter-widgets/controls",
          "model_name": "IntSliderModel",
          "model_module_version": "1.5.0",
          "state": {
            "_dom_classes": [],
            "_model_module": "@jupyter-widgets/controls",
            "_model_module_version": "1.5.0",
            "_model_name": "IntSliderModel",
            "_view_count": null,
            "_view_module": "@jupyter-widgets/controls",
            "_view_module_version": "1.5.0",
            "_view_name": "IntSliderView",
            "continuous_update": true,
            "description": "fontsize",
            "description_tooltip": null,
            "disabled": false,
            "layout": "IPY_MODEL_19c34b6c767d4fbaa3e7dac9cd2503da",
            "max": 20,
            "min": 10,
            "orientation": "horizontal",
            "readout": true,
            "readout_format": "d",
            "step": 2,
            "style": "IPY_MODEL_256b79c71ba045c3a81aae470d4f8166",
            "value": 14
          }
        },
        "29fbbd2a64964ad6ba48b1f8b77e1500": {
          "model_module": "@jupyter-widgets/controls",
          "model_name": "CheckboxModel",
          "model_module_version": "1.5.0",
          "state": {
            "_dom_classes": [],
            "_model_module": "@jupyter-widgets/controls",
            "_model_module_version": "1.5.0",
            "_model_name": "CheckboxModel",
            "_view_count": null,
            "_view_module": "@jupyter-widgets/controls",
            "_view_module_version": "1.5.0",
            "_view_name": "CheckboxView",
            "description": "grid",
            "description_tooltip": null,
            "disabled": false,
            "indent": true,
            "layout": "IPY_MODEL_1296a061278a46e788f03e6aee3c08b5",
            "style": "IPY_MODEL_8c17778467bf4f36b8ed037702dca63a",
            "value": false
          }
        },
        "d2b145f792834fff98cdbc9e0ef4aff9": {
          "model_module": "@jupyter-widgets/output",
          "model_name": "OutputModel",
          "model_module_version": "1.0.0",
          "state": {
            "_dom_classes": [],
            "_model_module": "@jupyter-widgets/output",
            "_model_module_version": "1.0.0",
            "_model_name": "OutputModel",
            "_view_count": null,
            "_view_module": "@jupyter-widgets/output",
            "_view_module_version": "1.0.0",
            "_view_name": "OutputView",
            "layout": "IPY_MODEL_4b81380bb4844efb9268ba71292d4ead",
            "msg_id": "",
            "outputs": [
              {
                "output_type": "display_data",
                "data": {
                  "text/plain": "<Figure size 864x864 with 1 Axes>",
                  "image/png": "iVBORw0KGgoAAAANSUhEUgAAAu8AAALBCAYAAADoJU8XAAAABHNCSVQICAgIfAhkiAAAAAlwSFlzAAALEgAACxIB0t1+/AAAADh0RVh0U29mdHdhcmUAbWF0cGxvdGxpYiB2ZXJzaW9uMy4yLjIsIGh0dHA6Ly9tYXRwbG90bGliLm9yZy+WH4yJAAAgAElEQVR4nO3df5TldX3f8de7oNFE0CibRWIIpMkx/sCKjo2oKBj31NDYGvEUbYwSEwlSNam/EhtPNNWjx9QiHI0hkLQqxkiVniZYKSiJxgJFZ9PUoGJsQWJFcDf+IBgRwU//uHfTYZy7u7PszL3v5fE4Z4473+/ne+fz/fqduc/5zvdeaowRAABg8f2DeU8AAADYO+IdAACaEO8AANCEeAcAgCbEOwAANHHwvCfQyWGHHTaOOuqoeU8DAIAD2Pbt23eOMbastU68r8NRRx2V5eXleU8DAIADWFVdP2ud22YAAKAJ8Q4AAE2IdwAAaEK8AwBAE+IdAACaEO8AANCEeAcAgCbEOwAANCHeAQCgCfEOAABNiHcAAGhCvAMAQBPiHQAAmhDvAADQhHgHAIAmxDsAADQh3gEAoAnxDgAATYh3AABoQrwDAEAT4h0AAJoQ7wAA0IR4BwCAJsQ7AAA0Id4BAKAJ8Q4AAE2IdwAAaEK8AwBAE+IdAACaEO8AANCEeAcAgCbEOwAANCHeAQCgCfEOAABNiHcAAGhCvAMAQBPiHQAAmhDvAADQhHgHAIAmxDsAADQh3gEAoAnxDgAATYh3AABoQrwDAEAT4h0AAJoQ7wAA0IR4BwCAJsQ7AAA0Id4BAKAJ8Q4AAE2IdwAAaEK8AwBAE+IdAACaEO8AANCEeAcAgCbEOwAANCHeAQCgCfEOAABNiHcAAGhCvAMAQBPiHQAAmhDvAADQhHgHAIAmxDsAADQh3gEAoAnxDgAATYh3AABoQrwDAEAT4h0AAJoQ7wAA0IR4BwCAJsQ7AAA0Id4BAKAJ8Q4AAE2IdwAAaEK8AwBAE+IdAACaEO8AANCEeAcAgCbEOwAANCHeAQCgCfEOAABNiHcAAGhCvAMAQBMLH+9VdUZVXVdVt1bV9qo6fg/jnzQdd2tVXVtVp+9m7KuqalTV2/b/zAEAYP9a6HivqlOSnJ3kDUmOTXJFkour6sgZ449O8sHpuGOTvDHJW6vq5DXGPjbJaUk+uTGzBwCA/Wuh4z3JS5O8Y4xx3hjjM2OMFyf5UpIXzhh/epIbxhgvno4/L8k7k7x85aCqum+SP0jy/CRf3bjpAwDA/rOw8V5V90zy6CSXrlp1aZLHzdjsuDXGX5JkqarusWLZuUneP8b4072Yx2lVtVxVyzt27Ni7yQMAwAZY2HhPcliSg5LctGr5TUkOn7HN4TPGHzx9vFTVC5L8aJJX780kxhjnjjGWxhhLW7Zs2cupAwDA/nfwvCewmarqwZncP/+EMca35z0fAABYj0W+8r4zyR1Jtq5avjXJjTO2uXHG+Nunj3dcJlfgP1VVt1fV7UmelOSM6effs78mDwAA+9vCxvsY47Yk25NsW7VqWybvJrOWK2eMX55eaf8vSY5J8sgVH8tJ3jv99237ZfIAALABFv22mTOTnF9VH09yeSbvJnNEknOSpKrelSRjjOdOx5+T5EVVdVaS303y+CSnJnn2dNzXknxt5Reoqm8k+coY4+qN3hkAALgrFjrexxgXVNUDMnlx6QOTXJ3kpDHG9dMhR64af11VnZTkLZm8neQNSV4yxrhwE6cNAAAbosYY855DG0tLS2N5eXne0wAA4ABWVdvHGEtrrVvYe94BAIA7E+8AANCEeAcAgCbEOwAANCHeAQCgCfEOAABNiHcAAGhCvAMAQBPiHQAAmhDvAADQhHgHAIAmxDsAADQh3gEAoAnxDgAATYh3AABoQrwDAEAT4h0AAJoQ7wAA0IR4BwCAJsQ7AAA0Id4BAKAJ8Q4AAE2IdwAAaEK8AwBAE+IdAACaEO8AANCEeAcAgCbEOwAANCHeAQCgCfEOAABNiHcAAGhCvAMAQBPiHQAAmhDvAADQhHgHAIAmxDsAADQh3gEAoAnxDgAATYh3AABoQrwDAEAT4h0AAJoQ7wAA0IR4BwCAJsQ7AAA0Id4BAKAJ8Q4AAE2IdwAAaEK8AwBAE+IdAACaEO8AANCEeAcAgCbEOwAANCHeAQCgCfEOAABNiHcAAGhCvAMAQBPiHQAAmhDvAADQhHgHAIAmxDsAADQh3gEAoAnxDgAATYh3AABoQrwDAEAT4h0AAJoQ7wAA0IR4BwCAJsQ7AAA0Id4BAKAJ8Q4AAE2IdwAAaEK8AwBAE+IdAACaEO8AANCEeAcAgCbEOwAANCHeAQCgCfEOAABNiHcAAGhCvAMAQBPiHQAAmhDvAADQhHgHAIAmxDsAADQh3gEAoAnxDgAATYh3AABoQrwDAEAT4h0AAJoQ7wAA0IR4BwCAJsQ7AAA0Id4BAKAJ8Q4AAE2IdwAAaEK8AwBAE+IdAACaEO8AANCEeAcAgCbEOwAANCHeAQCgCfEOAABNiHcAAGhCvAMAQBPiHQAAmhDvAADQhHgHAIAmFj7eq+qMqrquqm6tqu1Vdfwexj9pOu7Wqrq2qk5ftf5VVfWJqrq5qnZU1UVV9fCN3QsAALjrFjreq+qUJGcneUOSY5NckeTiqjpyxvijk3xwOu7YJG9M8taqOnnFsBOSvD3J45I8OcntST5cVfffoN0AAID9osYY857DTFV1VZJPjjFesGLZ55K8f4zxqjXGvynJM8YYP7Zi2e8ledgY47gZX+M+Sb6e5OljjIt2N5+lpaWxvLy8bzsDAAB7oaq2jzGW1lq3sFfeq+qeSR6d5NJVqy7N5Kr5Wo5bY/wlSZaq6h4ztjkkk+Pw1X2cKgAAbIqFjfckhyU5KMlNq5bflOTwGdscPmP8wdPHW8vZSf4iyZVrrayq06pquaqWd+zYsTfzBgCADbHI8b7hqurMJE9IcvIY4461xowxzh1jLI0xlrZs2bK5EwQAgBUOnvcEdmNnkjuSbF21fGuSG2dsc+OM8bdPH+/vVdVbkjwryYljjGvv8mwBAGCDLeyV9zHGbUm2J9m2atW2TN5NZi1Xzhi/PMb49q4FVXV2kmcnefIY45r9M2MAANhYi3zlPUnOTHJ+VX08yeVJTk9yRJJzkqSq3pUkY4znTsefk+RFVXVWkt9N8vgkp2YS6plu89tJfi7J05N8tap23T9/yxjjlo3eIQAA2FcLHe9jjAuq6gFJXp3kgUmuTnLSGOP66ZAjV42/rqpOSvKWJC9MckOSl4wxLlwx7Izp/1626sv9ZpLX7t89AACA/Weh4z1Jxhhvz+Q/qrTWuhPWWPbRJI/azePVfpscAABsooW95x0AALgz8Q4AAE2IdwAAaEK8AwBAE+IdAACaEO8AANCEeAcAgCbEOwAANCHeAQCgCfEOAABNiHcAAGhCvAMAQBPiHQAAmhDvAADQhHgHAIAmxDsAADQh3gEAoAnxDgAATYh3AABoQrwDAEAT4h0AAJoQ7wAA0IR4BwCAJsQ7AAA0Id4BAKAJ8Q4AAE2IdwAAaEK8AwBAE+IdAACaEO8AANCEeAcAgCbEOwAANCHeAQCgCfEOAABNiHcAAGhCvAMAQBPiHQAAmhDvAADQhHgHAIAmxDsAADQh3gEAoAnxDgAATYh3AABoQrwDAEAT4h0AAJoQ7wAA0IR4BwCAJsQ7AAA0Id4BAKAJ8Q4AAE2IdwAAaEK8AwBAE+IdAACaEO8AANCEeAcAgCbEOwAANCHeAQCgCfEOAABNiHcAAGhCvAMAQBPiHQAAmhDvAADQhHgHAIAmxDsAADQh3gEAoAnxDgAATYh3AABoQrwDAEAT4h0AAJoQ7wAA0IR4BwCAJsQ7AAA0Id4BAKAJ8Q4AAE2IdwAAaEK8AwBAE+IdAACaEO8AANCEeAcAgCbEOwAANCHeAQCgCfEOAABNiHcAAGhCvAMAQBPiHQAAmhDvAADQhHgHAIAmxDsAADQh3gEAoAnxDgAATYh3AABoQrwDAEAT4h0AAJoQ7wAA0IR4BwCAJsQ7AAA0Id4BAKAJ8Q4AAE2IdwAAaEK8AwBAE+IdAACaEO8AANCEeAcAgCbEOwAANCHeAQCgCfEOAABNiHcAAGhCvAMAQBMLH+9VdUZVXVdVt1bV9qo6fg/jnzQdd2tVXVtVp9/VxwQAgEWw23ivqsdu1kRmfP1Tkpyd5A1Jjk1yRZKLq+rIGeOPTvLB6bhjk7wxyVur6uR9fUwAAFgUe7ry/mdV9bqqOnhTZvPdXprkHWOM88YYnxljvDjJl5K8cMb405PcMMZ48XT8eUnemeTld+ExAQBgIewpyn8qye8n+adV9Zwxxqc3YU5Jkqq6Z5JHJ3nzqlWXJnncjM2Om65f6ZIkz6uqeySpfXjMufrNiz6VT99w87ynAQBwt/TQIw7Na572sHlP4+/tNt7HGJdV1TFJzkqyXFWvHmOcuTlTy2FJDkpy06rlNyV5yoxtDk/y4TXGHzx9vFrvY1bVaUlOS5Ijj9z8O2s+fcPNueq6r2z61wUAYPHs8XaYMcbfJvmFqvpgkguq6t8m+c6qMYdu0PzmboxxbpJzk2RpaWls9td/6BEH7KEFAFh4i9Zie3Uve1UtJXldks9lcsvJ7Rs5qamdSe5IsnXV8q1JbpyxzY0zxt8+fbzah8ecq0X6Mw0AAPO123ifvlD1NUl+Ncnbk/zaGOPWzZjYGOO2qtqeZFuS961YtS3JhTM2uzLJz6xati3J8hjj20myD48JAAALYU9X3j+R5P5JfmqMcdkmzGe1M5OcX1UfT3J5Ju8mc0SSc5Kkqt6VJGOM507Hn5PkRVV1VpLfTfL4JKcmefbePiYAACyqPcX71UleNMb4+mZMZrUxxgVV9YAkr07ywOl8ThpjXD8dcuSq8ddV1UlJ3pLJWz/ekOQlY4wL1/GYAACwkGqMTX8NZltLS0tjeXl53tMAAOAAVlXbxxhLa63b03+kCQAAWBDiHQAAmhDvAADQhHgHAIAmxDsAADQh3gEAoAnxDgAATYh3AABoQrwDAEAT4h0AAJoQ7wAA0IR4BwCAJsQ7AAA0Id4BAKAJ8Q4AAE2IdwAAaEK8AwBAE+IdAACaEO8AANCEeAcAgCbEOwAANCHeAQCgCfEOAABNiHcAAGhCvAMAQBPiHQAAmhDvAADQhHgHAIAmxDsAADQh3gEAoAnxDgAATYh3AABoQrwDAEAT4h0AAJoQ7wAA0IR4BwCAJsQ7AAA0Id4BAKAJ8Q4AAE2IdwAAaEK8AwBAE+IdAACaEO8AANCEeAcAgCbEOwAANCHeAQCgCfEOAABNiHcAAGhCvAMAQBPiHQAAmhDvAADQhHgHAIAmxDsAADQh3gEAoAnxDgAATYh3AABoQrwDAEAT4h0AAJoQ7wAA0IR4BwCAJsQ7AAA0Id4BAKAJ8Q4AAE2IdwAAaEK8AwBAE+IdAACaEO8AANCEeAcAgCbEOwAANCHeAQCgCfEOAABNiHcAAGhCvAMAQBPiHQAAmhDvAADQhHgHAIAmxDsAADQh3gEAoAnxDgAATYh3AABoQrwDAEAT4h0AAJoQ7wAA0IR4BwCAJsQ7AAA0Id4BAKAJ8Q4AAE2IdwAAaEK8AwBAE+IdAACaEO8AANCEeAcAgCbEOwAANCHeAQCgCfEOAABNiHcAAGhCvAMAQBPiHQAAmhDvAADQhHgHAIAmxDsAADQh3gEAoAnxDgAATYh3AABoQrwDAEAT4h0AAJoQ7wAA0MTCxntVfU9VvbWqdlbVN6rqj6vqQXux3RlVdV1V3VpV26vq+BXr7j99zGuq6ptV9YWq+p2qesDG7g0AANx1CxvvSc5KcnKSZyc5PsmhST5QVQfN2qCqTklydpI3JDk2yRVJLq6qI6dDjkjyg0lemeSYJM9J8sQkf7hB+wAAAPtNjTHmPYfvUlX3TbIjyc+PMf5guuyHklyf5KfGGJfM2O6qJJ8cY7xgxbLPJXn/GONVM7Y5KckHktxvjHHz7ua1tLQ0lpeX92WXAABgr1TV9jHG0lrrFvXK+6OT3CPJpbsWjDG+kOQzSR631gZVdc/pdpeuWnXprG2mDk3yrSR/dxfmCwAAG25R4/3wJHck2blq+U3TdWs5LMlB0zF7tU1V3S/J65KcN8a4fcaY06pquaqWd+zYsZfTBwCA/W9T472qXl9VYw8fJ2zSXO6T5KIkX8zkHvg1jTHOHWMsjTGWtmzZshlTAwCANR28yV/vrCTv3sOYv07y2Eyuoh+Wyb3vu2xN8rEZ2+3M5Gr91lXLtya5ceWCabh/cPrpT48xbt3jzAEAYM42Nd7HGDvz3bfCfJeq2p7k20m2JXnPdNmDkjwkk3eQWeuxb5tuty3J+1as2pbkwhWPfUiSi5NUkqeOMW7Zp50BAIBNttlX3vfKGOPrVfX7SX6rqr6c5G+SnJnkk0k+vGtcVV2T5G1jjLdNF52Z5Pyq+niSy5OcnsnbQ54zHX9IJi9gPTTJ05N8X1V933Tbr4wxbtvwnQMAgH20kPE+9StJbk9yQZJ7J7ksyXPHGHesGPPgTG6tSZKMMS6Y/geXXp3kgUmuTnLSGOP66ZBHZ3JLTpL81aqvd2KSj+znfQAAgP1mId/nfVF5n3cAADZax/d5BwAAVhHvAADQhHgHAIAmxDsAADQh3gEAoAnxDgAATYh3AABoQrwDAEAT4h0AAJoQ7wAA0IR4BwCAJsQ7AAA0Id4BAKAJ8Q4AAE2IdwAAaEK8AwBAE+IdAACaEO8AANCEeAcAgCbEOwAANCHeAQCgCfEOAABNiHcAAGhCvAMAQBPiHQAAmhDvAADQhHgHAIAmxDsAADQh3gEAoAnxDgAATYh3AABoQrwDAEAT4h0AAJoQ7wAA0IR4BwCAJsQ7AAA0Id4BAKAJ8Q4AAE2IdwAAaEK8AwBAE+IdAACaEO8AANCEeAcAgCbEOwAANCHeAQCgCfEOAABNiHcAAGhCvAMAQBPiHQAAmhDvAADQhHgHAIAmxDsAADQh3gEAoAnxDgAATYh3AABoQrwDAEAT4h0AAJoQ7wAA0IR4BwCAJsQ7AAA0Id4BAKAJ8Q4AAE2IdwAAaEK8AwBAE+IdAACaEO8AANCEeAcAgCbEOwAANCHeAQCgCfEOAABNiHcAAGhCvAMAQBPiHQAAmhDvAADQhHgHAIAmxDsAADQh3gEAoAnxDgAATYh3AABoQrwDAEAT4h0AAJoQ7wAA0IR4BwCAJsQ7AAA0Id4BAKAJ8Q4AAE2IdwAAaEK8AwBAE+IdAACaEO8AANCEeAcAgCbEOwAANCHeAQCgCfEOAABNiHcAAGhCvAMAQBPiHQAAmhDvAADQhHgHAIAmxDsAADQh3gEAoAnxDgAATYh3AABoQrwDAEAT4h0AAJoQ7wAA0IR4BwCAJsQ7AAA0sbDxXlXfU1VvraqdVfWNqvrjqnrQXmx3RlVdV1W3VtX2qjp+xriqqouralTVM/f/HgAAwP61sPGe5KwkJyd5dpLjkxya5ANVddCsDarqlCRnJ3lDkmOTXJHk4qo6co3hL0vynf09aQAA2CgLGe9Vdd8kv5DkFWOMD40x/jzJzyV5RJKn7GbTlyZ5xxjjvDHGZ8YYL07ypSQvXPX4j0nyy0l+fkN2AAAANsBCxnuSRye5R5JLdy0YY3whyWeSPG6tDarqntPtLl216tKV21TVIUnek+S0McaX9++0AQBg4yxqvB+e5I4kO1ctv2m6bi2HJTloOmZ325yT5L+NMS7em4lU1WlVtVxVyzt27NibTQAAYENsarxX1eunLxDd3ccJG/j1fy7JP0ryir3dZoxx7hhjaYyxtGXLlo2aGgAA7NHBm/z1zkry7j2M+eskj83kKvphSVZe7t6a5GMzttuZydX6rauWb01y4/TfP5nkoUluqaqVYy6oqivHGE/Y0w4AAMC8bGq8jzF25rtvhfkuVbU9ybeTbMvk/vRM3ybyIZm8g8xaj33bdLttSd63YtW2JBdO//3rSd68atO/TPLyJH+01zsCAABzsNlX3vfKGOPrVfX7SX6rqr6c5G+SnJnkk0k+vGtcVV2T5G1jjLdNF52Z5Pyq+niSy5OcnuSITO5zzxjji0m+uPJrTa/Af2GMce2G7hQAANxFCxnvU7+S5PYkFyS5d5LLkjx3jHHHijEPzuTWmiTJGOOCqnpAklcneWCSq5OcNMa4ftNmDQAAG6TGGPOeQxtLS0tjeXl53tMAAOAAVlXbxxhLa61b1LeKBAAAVhHvAADQhHgHAIAmxDsAADQh3gEAoAnxDgAATYh3AABoQrwDAEAT4h0AAJoQ7wAA0IR4BwCAJsQ7AAA0Id4BAKAJ8Q4AAE2IdwAAaEK8AwBAE+IdAACaEO8AANCEeAcAgCbEOwAANCHeAQCgCfEOAABNiHcAAGhCvAMAQBPiHQAAmhDvAADQhHgHAIAmxDsAADQh3gEAoAnxDgAATYh3AABoQrwDAEAT4h0AAJoQ7wAA0IR4BwCAJsQ7AAA0Id4BAKAJ8Q4AAE2IdwAAaEK8AwBAE+IdAACaEO8AANCEeAcAgCbEOwAANCHeAQCgCfEOAABNiHcAAGhCvAMAQBPiHQAAmhDvAADQhHgHAIAmxDsAADQh3gEAoAnxDgAATYh3AABoQrwDAEAT4h0AAJoQ7wAA0IR4BwCAJsQ7AAA0Id4BAKAJ8Q4AAE2IdwAAaEK8AwBAE+IdAACaEO8AANCEeAcAgCbEOwAANCHeAQCgCfEOAABNiHcAAGhCvAMAQBPiHQAAmhDvAADQhHgHAIAmxDsAADQh3gEAoAnxDgAATYh3AABoQrwDAEAT4h0AAJoQ7wAA0ESNMeY9hzaqakeS6+fwpQ9LsnMOX7crx2t9HK/1c8zWx/FaH8drfRyv9XG81mdex+uHxxhb1loh3huoquUxxtK859GF47U+jtf6OWbr43itj+O1Po7X+jhe67OIx8ttMwAA0IR4BwCAJsR7D+fOewLNOF7r43itn2O2Po7X+jhe6+N4rY/jtT4Ld7zc8w4AAE248g4AAE2IdwAAaEK8AwBAE+J9zqrqtKr606r6WlWNqjpqjTHfX1XnV9XXpx/nV9X99vC4VVWvraobquqbVfWRqnrYRu3HvFTVUdPjttbHK3az3QkztvnxzZz/PEzPhdX7/d692O7kqvp0VX1r+r8/sxnznaequn9VvbWqrpl+H32hqn6nqh6wh+1OnXF+3Wuz5r6ZquqMqrquqm6tqu1Vdfwexj9pOu7Wqrq2qk7frLnOU1W9qqo+UVU3V9WOqrqoqh6+h21m/Yx76mbNe16mz2Gr9/vGPWxzTFV9dPr9+sWq+o2qqs2a8zxV1ednnCv/dTfbrDX+gPx+rKonVtUfT8+LUVWnrlq/T900j+dG8T5/35vk0iSv3c2Y9yR5VJKnTj8eleT8PTzuK5O8LMmLkzwmyZeTfKiqDrmL8100X0jywFUfZyQZSd6/F9s/bNW2n9uYaS6c/5g77/cv7W5wVR2X5IIkf5DkkdP/fV9V/cQGz3Pejkjyg5l8Px2T5DlJnpjkD/di27/LqnNzjHHrBs1zbqrqlCRnJ3lDkmOTXJHk4qo6csb4o5N8cDru2CRvTPLWqjp5c2Y8VyckeXuSxyV5cpLbk3y4qu6/F9s+NXc+n/5kg+a4aD6bO+/3MbMGVtWhST6U5KZMnvd+Ockrkrx046e5EB6TOx+rR2XyXPif9rDdC1Zt984NnOM83SfJ1ZmcF99cY/26u2luz41jDB8L8JFkKZNvsqNWLX/IdPnjVyx7wnTZg2c8ViX5UpJfX7Hs3kn+NskvzXtfN+FYfijJpXsYc8L0GB427/nO4fh8JMnb1rnNBUk+tGrZh5P84bz3Zw7H76Qk30ly6G7GnJrklnnPdZOOx1VJzlu17HNJ3jhj/JuSfG7Vst9LcuW892UOx+4+Se5I8rTdjDlq+rNqad7zncPxeW2Sq9cx/oVJbk5y7xXLXp3ki5m+u97d6SPJryf52srjscaYkeSZ857rHI7NLUlOXfH5PnXTvJ4bXXlffMdlcpJdsWLZ5Um+kcnVm7UcneTwTK7oJ0nGGN9M8me72eaAUFU/kuQns/fvy7pcVV+qqsuq6sQNnNqieVZV7ayqT1XVm/fiLzLHZcX5NHVJDvDzaYZDk3wrkyvru3Pvqrq+qv5vVX2gqo7dhLltqqq6Z5JH57vPjUsz+9yYdS4tVdU99u8MF94hmfwF/Kt7MfY/V9WXq+ryqnrmBs9rkfzI9DaG66rqvdOf8bMcl+Rj0+e7XS7J5C9oR23kJBfN9FahX0jy7lXHYy1nT58PPlFVp1fV3bEN97Wb5vLceHf8P6ibw5PsGNNf55Jk+u8vT9fN2iaZ/OlwpZt2s82B4heT7EjyR3sY96VMrtKcnOQZmfxp9rI93at7gHhPkp9NcmKS12VyDC7cwzaH5+55Pt1JTV5r8rpMrjTfvpuhn03y/CT/PMmzk9ya5PKq+rGNn+WmOizJQVnfuTHrXDp4+nh3J2cn+YskV+5mzC1JXp7kX2TyV5/LklxQVc/Z+OnN3VWZ/BXrqZnc2nF4kit285qTWefWrnV3J9syCdLz9jDuN5KckuQpSd6b5N8n+TcbO7WFtK/dNJfnxoM38sHvrqrq9Zn8uWp3ThxjfGQTptPSvhzDqjo4yc8neecY49u723CM8dlMAmuXK2vyYuFXJPnYPkx5rtZzvMYYK/8q8ZdVdW2Sq6rqUWOMP9+4WS6OfTy/7pPkokz+BP/K3W04xrgyK4Ksqq7IJNJenOQl+zZrDiRVdWYmt0A+YYxxx6xxY4ydmQTVLstVdVgm5+C7N3aW8zXGuHjl51X1P5Jcm+R5Sc6cy6T6eEGST4wx/tfuBo0xXrfi07+oqoMy+dn4+o2cHHeNeN8YZ2XPP1T/ei8f68YkW6qqdl19n/457Aem62ZtkyRbV32drbvZZtHsyzF8Wia/7f7ePn7Nq5I8ax+3nbe7cs4tZ3Lf7Y8lmRXvN2Zy/qzU6XxabV3HaxruH5x++tNjnS88HWPcUVXLmRzjA8nOTM6d9Zwbs86l26ePd8Crqrdk8rPmxDHGtfvwEFdlcqHibmWMcUtVfdedC4UAAAUjSURBVCqzv49mnVu71t0tVNUPZPJXv3+1D5tfleTQqto6xlh9RflAtq/dNJfnRvG+AaZXSvbXk9CVmbyo6bj8//vej0vyfbnzffArXZfJibMtySeSpCZvUXd8JleWF94+HsMXJPnoGOOv9vHLPjKT22nauYvn3DGZ3Pqwu32/MpPz6d+tWLYts8/Bhbae4zV9PcDFmbyg6aljjFvW+/Wmv3A/Islur4J1M8a4raq2Z3IuvG/Fqm2ZfSvWlUlWv5XatiTLe/qL2YGgqs7O5DaFE8cY1+zjw7T9WXVXTJ/HfjzJn84YcmWSN1XVvVb8gr0tyQ1JPr/xM1wYp2byupy9eVes1R6ZyW1+X9ufE2pgX7tpPs+N837F7939I5MrxY9M8i8zedX3SdPP779izMVJ/jKTaD9u+u+LVqz/wSTXJPmZFct+NcnXM7mf++GZ3Mt2Q5JD5r3PG3Qcj8zkCuDPzlj/riTvWvH5ryR5eiZXcB6WydvVjSTPmPe+bPBx+oeZ3OO4lMkLuE5K8plMrrgftGLcZVnxbiGZvPjm9iS/lsmT56uSfDvJT8x7nzb4eB2SyQ/nXVf7Dl/xcc/dHK/XJPknSX5k+v38H6bH6x/Pe5824BidkuS2TF5v8pBM7uO+JckPT9ev/t47OpMX3J81Hf+L0+1Pnve+bMKx+u1M3g3lyavOpfusGPPGJJet+Px50+eHhyR5cCb3v9+W5F/Pe3824Xi9OcmTpufMTyT5wPT47Tq3Vh+r+2YSYO+dPu89Yzr+ZfPel008ZpXkr7LqHaCm616U5JoVnz8tk4teD58+N/xiJt1w9rz3Y4OOzX2mP48fmckbDvzG9N9HTtfvsZsW5blx7gfz7v6RyVthjTU+Tl0x5vsz+RP/zdOPdye534r1R62xTU0f+0uZ/Bb90SQPn/f+buBx/M0kX0lyrxnrP5LkIys+f2Umb2f3zel2H0ty0rz3YxOO0w9Nz4W/yeTKzP/OJLbuv2rc55O8Y9WyZ2byS+JtmQT/Af2LznSfT5jx/TmSnDDreCV5S5Lrp8f4y5m8+8Bx896fDTxOZ0yPwbeSbE/yxBXr7vS9N132pEx+YfxWJle8Tp/3PmzScZp1Lr12xZh3JPn8is+fl+TTmfzCc3Mmt7k9Z977sknHa1c83ZbJa00uTPLQWcdquuyYTN4h5Nbp899rcjd6m8hM3ohgZI0LBdMmGCs+f2qS/5nJ2yF+I5MLg7+c5OB578cGHZtZP8/fMV2/x25alOfGmn5hAABgwXmrSAAAaEK8AwBAE+IdAACaEO8AANCEeAcAgCbEOwAANCHeAQCgCfEOwH5TVf+gqv6sqi5atfx7q+qzVXXOvOYGcCAQ7wDsN2OM7yQ5NcmJVfX8FavelOSgJC+bx7wADhT+C6sA7HdVdXomwf6IJD+a5JIkJ4wx/vtcJwbQnHgHYENU1SVJ7p3kqCTvHWO8cr4zAuhPvAOwIarq6CT/Z/rx8DHGt+Y8JYD23PMOwEZ5fpJvJnlQkqPnPBeAA4Ir7wDsd1X1mCRXJPlnSV6YZGuSx40x7pjrxACac+UdgP2qqu6V5F1J3jHGuDjJaZm8aNU97wB3kSvvAOxXVfWWJE9P8ogxxt9Olz0ryTuTPGqM8al5zg+gM/EOwH5TVU9M8idJnjLG+Miqde/L5N73x44xbp/D9ADaE+8AANCEe94BAKAJ8Q4AAE2IdwAAaEK8AwBAE+IdAACaEO8AANCEeAcAgCbEOwAANPH/ADR/6xKsOVoRAAAAAElFTkSuQmCC\n"
                },
                "metadata": {
                  "needs_background": "light"
                }
              }
            ]
          }
        },
        "740597bf1e5c40bf86be988c57128824": {
          "model_module": "@jupyter-widgets/base",
          "model_name": "LayoutModel",
          "model_module_version": "1.2.0",
          "state": {
            "_model_module": "@jupyter-widgets/base",
            "_model_module_version": "1.2.0",
            "_model_name": "LayoutModel",
            "_view_count": null,
            "_view_module": "@jupyter-widgets/base",
            "_view_module_version": "1.2.0",
            "_view_name": "LayoutView",
            "align_content": null,
            "align_items": null,
            "align_self": null,
            "border": null,
            "bottom": null,
            "display": null,
            "flex": null,
            "flex_flow": null,
            "grid_area": null,
            "grid_auto_columns": null,
            "grid_auto_flow": null,
            "grid_auto_rows": null,
            "grid_column": null,
            "grid_gap": null,
            "grid_row": null,
            "grid_template_areas": null,
            "grid_template_columns": null,
            "grid_template_rows": null,
            "height": null,
            "justify_content": null,
            "justify_items": null,
            "left": null,
            "margin": null,
            "max_height": null,
            "max_width": null,
            "min_height": null,
            "min_width": null,
            "object_fit": null,
            "object_position": null,
            "order": null,
            "overflow": null,
            "overflow_x": null,
            "overflow_y": null,
            "padding": null,
            "right": null,
            "top": null,
            "visibility": null,
            "width": null
          }
        },
        "316f2f96f23149da83dde77b1697c33d": {
          "model_module": "@jupyter-widgets/base",
          "model_name": "LayoutModel",
          "model_module_version": "1.2.0",
          "state": {
            "_model_module": "@jupyter-widgets/base",
            "_model_module_version": "1.2.0",
            "_model_name": "LayoutModel",
            "_view_count": null,
            "_view_module": "@jupyter-widgets/base",
            "_view_module_version": "1.2.0",
            "_view_name": "LayoutView",
            "align_content": null,
            "align_items": null,
            "align_self": null,
            "border": null,
            "bottom": null,
            "display": null,
            "flex": null,
            "flex_flow": null,
            "grid_area": null,
            "grid_auto_columns": null,
            "grid_auto_flow": null,
            "grid_auto_rows": null,
            "grid_column": null,
            "grid_gap": null,
            "grid_row": null,
            "grid_template_areas": null,
            "grid_template_columns": null,
            "grid_template_rows": null,
            "height": null,
            "justify_content": null,
            "justify_items": null,
            "left": null,
            "margin": null,
            "max_height": null,
            "max_width": null,
            "min_height": null,
            "min_width": null,
            "object_fit": null,
            "object_position": null,
            "order": null,
            "overflow": null,
            "overflow_x": null,
            "overflow_y": null,
            "padding": null,
            "right": null,
            "top": null,
            "visibility": null,
            "width": null
          }
        },
        "736bee8ecd53485496fe39d64c0ba4b8": {
          "model_module": "@jupyter-widgets/controls",
          "model_name": "SliderStyleModel",
          "model_module_version": "1.5.0",
          "state": {
            "_model_module": "@jupyter-widgets/controls",
            "_model_module_version": "1.5.0",
            "_model_name": "SliderStyleModel",
            "_view_count": null,
            "_view_module": "@jupyter-widgets/base",
            "_view_module_version": "1.2.0",
            "_view_name": "StyleView",
            "description_width": "",
            "handle_color": null
          }
        },
        "e36dc142d974457a81a8edc65350b893": {
          "model_module": "@jupyter-widgets/base",
          "model_name": "LayoutModel",
          "model_module_version": "1.2.0",
          "state": {
            "_model_module": "@jupyter-widgets/base",
            "_model_module_version": "1.2.0",
            "_model_name": "LayoutModel",
            "_view_count": null,
            "_view_module": "@jupyter-widgets/base",
            "_view_module_version": "1.2.0",
            "_view_name": "LayoutView",
            "align_content": null,
            "align_items": null,
            "align_self": null,
            "border": null,
            "bottom": null,
            "display": null,
            "flex": null,
            "flex_flow": null,
            "grid_area": null,
            "grid_auto_columns": null,
            "grid_auto_flow": null,
            "grid_auto_rows": null,
            "grid_column": null,
            "grid_gap": null,
            "grid_row": null,
            "grid_template_areas": null,
            "grid_template_columns": null,
            "grid_template_rows": null,
            "height": null,
            "justify_content": null,
            "justify_items": null,
            "left": null,
            "margin": null,
            "max_height": null,
            "max_width": null,
            "min_height": null,
            "min_width": null,
            "object_fit": null,
            "object_position": null,
            "order": null,
            "overflow": null,
            "overflow_x": null,
            "overflow_y": null,
            "padding": null,
            "right": null,
            "top": null,
            "visibility": null,
            "width": null
          }
        },
        "1c06eb81715f4a5fa1d24747a2f35f59": {
          "model_module": "@jupyter-widgets/controls",
          "model_name": "SliderStyleModel",
          "model_module_version": "1.5.0",
          "state": {
            "_model_module": "@jupyter-widgets/controls",
            "_model_module_version": "1.5.0",
            "_model_name": "SliderStyleModel",
            "_view_count": null,
            "_view_module": "@jupyter-widgets/base",
            "_view_module_version": "1.2.0",
            "_view_name": "StyleView",
            "description_width": "",
            "handle_color": null
          }
        },
        "a3b451fb49d54eecba321da98b41cbe7": {
          "model_module": "@jupyter-widgets/base",
          "model_name": "LayoutModel",
          "model_module_version": "1.2.0",
          "state": {
            "_model_module": "@jupyter-widgets/base",
            "_model_module_version": "1.2.0",
            "_model_name": "LayoutModel",
            "_view_count": null,
            "_view_module": "@jupyter-widgets/base",
            "_view_module_version": "1.2.0",
            "_view_name": "LayoutView",
            "align_content": null,
            "align_items": null,
            "align_self": null,
            "border": null,
            "bottom": null,
            "display": null,
            "flex": null,
            "flex_flow": null,
            "grid_area": null,
            "grid_auto_columns": null,
            "grid_auto_flow": null,
            "grid_auto_rows": null,
            "grid_column": null,
            "grid_gap": null,
            "grid_row": null,
            "grid_template_areas": null,
            "grid_template_columns": null,
            "grid_template_rows": null,
            "height": null,
            "justify_content": null,
            "justify_items": null,
            "left": null,
            "margin": null,
            "max_height": null,
            "max_width": null,
            "min_height": null,
            "min_width": null,
            "object_fit": null,
            "object_position": null,
            "order": null,
            "overflow": null,
            "overflow_x": null,
            "overflow_y": null,
            "padding": null,
            "right": null,
            "top": null,
            "visibility": null,
            "width": null
          }
        },
        "d6683b8a83134ebfa45e1c4451e36656": {
          "model_module": "@jupyter-widgets/controls",
          "model_name": "SliderStyleModel",
          "model_module_version": "1.5.0",
          "state": {
            "_model_module": "@jupyter-widgets/controls",
            "_model_module_version": "1.5.0",
            "_model_name": "SliderStyleModel",
            "_view_count": null,
            "_view_module": "@jupyter-widgets/base",
            "_view_module_version": "1.2.0",
            "_view_name": "StyleView",
            "description_width": "",
            "handle_color": null
          }
        },
        "e4ba216db3194c389843dfbc08507a0d": {
          "model_module": "@jupyter-widgets/base",
          "model_name": "LayoutModel",
          "model_module_version": "1.2.0",
          "state": {
            "_model_module": "@jupyter-widgets/base",
            "_model_module_version": "1.2.0",
            "_model_name": "LayoutModel",
            "_view_count": null,
            "_view_module": "@jupyter-widgets/base",
            "_view_module_version": "1.2.0",
            "_view_name": "LayoutView",
            "align_content": null,
            "align_items": null,
            "align_self": null,
            "border": null,
            "bottom": null,
            "display": null,
            "flex": null,
            "flex_flow": null,
            "grid_area": null,
            "grid_auto_columns": null,
            "grid_auto_flow": null,
            "grid_auto_rows": null,
            "grid_column": null,
            "grid_gap": null,
            "grid_row": null,
            "grid_template_areas": null,
            "grid_template_columns": null,
            "grid_template_rows": null,
            "height": null,
            "justify_content": null,
            "justify_items": null,
            "left": null,
            "margin": null,
            "max_height": null,
            "max_width": null,
            "min_height": null,
            "min_width": null,
            "object_fit": null,
            "object_position": null,
            "order": null,
            "overflow": null,
            "overflow_x": null,
            "overflow_y": null,
            "padding": null,
            "right": null,
            "top": null,
            "visibility": null,
            "width": null
          }
        },
        "a1d5d74e5e5c4e259b6cf6604a90b828": {
          "model_module": "@jupyter-widgets/controls",
          "model_name": "SliderStyleModel",
          "model_module_version": "1.5.0",
          "state": {
            "_model_module": "@jupyter-widgets/controls",
            "_model_module_version": "1.5.0",
            "_model_name": "SliderStyleModel",
            "_view_count": null,
            "_view_module": "@jupyter-widgets/base",
            "_view_module_version": "1.2.0",
            "_view_name": "StyleView",
            "description_width": "",
            "handle_color": null
          }
        },
        "e0d6ec9eb96c43d880e404b097850567": {
          "model_module": "@jupyter-widgets/base",
          "model_name": "LayoutModel",
          "model_module_version": "1.2.0",
          "state": {
            "_model_module": "@jupyter-widgets/base",
            "_model_module_version": "1.2.0",
            "_model_name": "LayoutModel",
            "_view_count": null,
            "_view_module": "@jupyter-widgets/base",
            "_view_module_version": "1.2.0",
            "_view_name": "LayoutView",
            "align_content": null,
            "align_items": null,
            "align_self": null,
            "border": null,
            "bottom": null,
            "display": null,
            "flex": null,
            "flex_flow": null,
            "grid_area": null,
            "grid_auto_columns": null,
            "grid_auto_flow": null,
            "grid_auto_rows": null,
            "grid_column": null,
            "grid_gap": null,
            "grid_row": null,
            "grid_template_areas": null,
            "grid_template_columns": null,
            "grid_template_rows": null,
            "height": null,
            "justify_content": null,
            "justify_items": null,
            "left": null,
            "margin": null,
            "max_height": null,
            "max_width": null,
            "min_height": null,
            "min_width": null,
            "object_fit": null,
            "object_position": null,
            "order": null,
            "overflow": null,
            "overflow_x": null,
            "overflow_y": null,
            "padding": null,
            "right": null,
            "top": null,
            "visibility": null,
            "width": null
          }
        },
        "bbe4baa882484cc095134bc4961bd347": {
          "model_module": "@jupyter-widgets/controls",
          "model_name": "SliderStyleModel",
          "model_module_version": "1.5.0",
          "state": {
            "_model_module": "@jupyter-widgets/controls",
            "_model_module_version": "1.5.0",
            "_model_name": "SliderStyleModel",
            "_view_count": null,
            "_view_module": "@jupyter-widgets/base",
            "_view_module_version": "1.2.0",
            "_view_name": "StyleView",
            "description_width": "",
            "handle_color": null
          }
        },
        "19c34b6c767d4fbaa3e7dac9cd2503da": {
          "model_module": "@jupyter-widgets/base",
          "model_name": "LayoutModel",
          "model_module_version": "1.2.0",
          "state": {
            "_model_module": "@jupyter-widgets/base",
            "_model_module_version": "1.2.0",
            "_model_name": "LayoutModel",
            "_view_count": null,
            "_view_module": "@jupyter-widgets/base",
            "_view_module_version": "1.2.0",
            "_view_name": "LayoutView",
            "align_content": null,
            "align_items": null,
            "align_self": null,
            "border": null,
            "bottom": null,
            "display": null,
            "flex": null,
            "flex_flow": null,
            "grid_area": null,
            "grid_auto_columns": null,
            "grid_auto_flow": null,
            "grid_auto_rows": null,
            "grid_column": null,
            "grid_gap": null,
            "grid_row": null,
            "grid_template_areas": null,
            "grid_template_columns": null,
            "grid_template_rows": null,
            "height": null,
            "justify_content": null,
            "justify_items": null,
            "left": null,
            "margin": null,
            "max_height": null,
            "max_width": null,
            "min_height": null,
            "min_width": null,
            "object_fit": null,
            "object_position": null,
            "order": null,
            "overflow": null,
            "overflow_x": null,
            "overflow_y": null,
            "padding": null,
            "right": null,
            "top": null,
            "visibility": null,
            "width": null
          }
        },
        "256b79c71ba045c3a81aae470d4f8166": {
          "model_module": "@jupyter-widgets/controls",
          "model_name": "SliderStyleModel",
          "model_module_version": "1.5.0",
          "state": {
            "_model_module": "@jupyter-widgets/controls",
            "_model_module_version": "1.5.0",
            "_model_name": "SliderStyleModel",
            "_view_count": null,
            "_view_module": "@jupyter-widgets/base",
            "_view_module_version": "1.2.0",
            "_view_name": "StyleView",
            "description_width": "",
            "handle_color": null
          }
        },
        "1296a061278a46e788f03e6aee3c08b5": {
          "model_module": "@jupyter-widgets/base",
          "model_name": "LayoutModel",
          "model_module_version": "1.2.0",
          "state": {
            "_model_module": "@jupyter-widgets/base",
            "_model_module_version": "1.2.0",
            "_model_name": "LayoutModel",
            "_view_count": null,
            "_view_module": "@jupyter-widgets/base",
            "_view_module_version": "1.2.0",
            "_view_name": "LayoutView",
            "align_content": null,
            "align_items": null,
            "align_self": null,
            "border": null,
            "bottom": null,
            "display": null,
            "flex": null,
            "flex_flow": null,
            "grid_area": null,
            "grid_auto_columns": null,
            "grid_auto_flow": null,
            "grid_auto_rows": null,
            "grid_column": null,
            "grid_gap": null,
            "grid_row": null,
            "grid_template_areas": null,
            "grid_template_columns": null,
            "grid_template_rows": null,
            "height": null,
            "justify_content": null,
            "justify_items": null,
            "left": null,
            "margin": null,
            "max_height": null,
            "max_width": null,
            "min_height": null,
            "min_width": null,
            "object_fit": null,
            "object_position": null,
            "order": null,
            "overflow": null,
            "overflow_x": null,
            "overflow_y": null,
            "padding": null,
            "right": null,
            "top": null,
            "visibility": null,
            "width": null
          }
        },
        "8c17778467bf4f36b8ed037702dca63a": {
          "model_module": "@jupyter-widgets/controls",
          "model_name": "DescriptionStyleModel",
          "model_module_version": "1.5.0",
          "state": {
            "_model_module": "@jupyter-widgets/controls",
            "_model_module_version": "1.5.0",
            "_model_name": "DescriptionStyleModel",
            "_view_count": null,
            "_view_module": "@jupyter-widgets/base",
            "_view_module_version": "1.2.0",
            "_view_name": "StyleView",
            "description_width": ""
          }
        },
        "4b81380bb4844efb9268ba71292d4ead": {
          "model_module": "@jupyter-widgets/base",
          "model_name": "LayoutModel",
          "model_module_version": "1.2.0",
          "state": {
            "_model_module": "@jupyter-widgets/base",
            "_model_module_version": "1.2.0",
            "_model_name": "LayoutModel",
            "_view_count": null,
            "_view_module": "@jupyter-widgets/base",
            "_view_module_version": "1.2.0",
            "_view_name": "LayoutView",
            "align_content": null,
            "align_items": null,
            "align_self": null,
            "border": null,
            "bottom": null,
            "display": null,
            "flex": null,
            "flex_flow": null,
            "grid_area": null,
            "grid_auto_columns": null,
            "grid_auto_flow": null,
            "grid_auto_rows": null,
            "grid_column": null,
            "grid_gap": null,
            "grid_row": null,
            "grid_template_areas": null,
            "grid_template_columns": null,
            "grid_template_rows": null,
            "height": null,
            "justify_content": null,
            "justify_items": null,
            "left": null,
            "margin": null,
            "max_height": null,
            "max_width": null,
            "min_height": null,
            "min_width": null,
            "object_fit": null,
            "object_position": null,
            "order": null,
            "overflow": null,
            "overflow_x": null,
            "overflow_y": null,
            "padding": null,
            "right": null,
            "top": null,
            "visibility": null,
            "width": null
          }
        },
        "f25200bcaf694153961434d589209cab": {
          "model_module": "@jupyter-widgets/controls",
          "model_name": "VBoxModel",
          "model_module_version": "1.5.0",
          "state": {
            "_dom_classes": [
              "widget-interact"
            ],
            "_model_module": "@jupyter-widgets/controls",
            "_model_module_version": "1.5.0",
            "_model_name": "VBoxModel",
            "_view_count": null,
            "_view_module": "@jupyter-widgets/controls",
            "_view_module_version": "1.5.0",
            "_view_name": "VBoxView",
            "box_style": "",
            "children": [
              "IPY_MODEL_aaa6c24f12a74f65a3eee9ea2da52172",
              "IPY_MODEL_b6956f92d44e4ec1b3a63668f2261ae2",
              "IPY_MODEL_233ae928853646078ad0d450900fd8bf",
              "IPY_MODEL_62c553d36efd4b64847e291c77b2942b",
              "IPY_MODEL_72303fbea6d44c46aedbc16768c81316",
              "IPY_MODEL_219004d919c5444cb4bec49fb03f11fa"
            ],
            "layout": "IPY_MODEL_9f22a43d4f8e466dadf6aee327f4f20d"
          }
        },
        "aaa6c24f12a74f65a3eee9ea2da52172": {
          "model_module": "@jupyter-widgets/controls",
          "model_name": "FloatSliderModel",
          "model_module_version": "1.5.0",
          "state": {
            "_dom_classes": [],
            "_model_module": "@jupyter-widgets/controls",
            "_model_module_version": "1.5.0",
            "_model_name": "FloatSliderModel",
            "_view_count": null,
            "_view_module": "@jupyter-widgets/controls",
            "_view_module_version": "1.5.0",
            "_view_name": "FloatSliderView",
            "continuous_update": true,
            "description": "mean",
            "description_tooltip": null,
            "disabled": false,
            "layout": "IPY_MODEL_3e08648ffac94538a7011397076c8aa2",
            "max": 5,
            "min": -5,
            "orientation": "horizontal",
            "readout": true,
            "readout_format": ".2f",
            "step": 0.5,
            "style": "IPY_MODEL_d1e89024e44b4e8d8e0f378c68de59c1",
            "value": 0
          }
        },
        "b6956f92d44e4ec1b3a63668f2261ae2": {
          "model_module": "@jupyter-widgets/controls",
          "model_name": "FloatSliderModel",
          "model_module_version": "1.5.0",
          "state": {
            "_dom_classes": [],
            "_model_module": "@jupyter-widgets/controls",
            "_model_module_version": "1.5.0",
            "_model_name": "FloatSliderModel",
            "_view_count": null,
            "_view_module": "@jupyter-widgets/controls",
            "_view_module_version": "1.5.0",
            "_view_name": "FloatSliderView",
            "continuous_update": true,
            "description": "std",
            "description_tooltip": null,
            "disabled": false,
            "layout": "IPY_MODEL_880eccf150df4c339c04434274cf84f3",
            "max": 5,
            "min": 0.1,
            "orientation": "horizontal",
            "readout": true,
            "readout_format": ".2f",
            "step": 0.1,
            "style": "IPY_MODEL_f8ba0c9249334a2cbf93a702feb18db9",
            "value": 2.5000000000000004
          }
        },
        "233ae928853646078ad0d450900fd8bf": {
          "model_module": "@jupyter-widgets/controls",
          "model_name": "IntSliderModel",
          "model_module_version": "1.5.0",
          "state": {
            "_dom_classes": [],
            "_model_module": "@jupyter-widgets/controls",
            "_model_module_version": "1.5.0",
            "_model_name": "IntSliderModel",
            "_view_count": null,
            "_view_module": "@jupyter-widgets/controls",
            "_view_module_version": "1.5.0",
            "_view_name": "IntSliderView",
            "continuous_update": true,
            "description": "figsize",
            "description_tooltip": null,
            "disabled": false,
            "layout": "IPY_MODEL_75a7b9005a5e4aef967aa8955fceab0b",
            "max": 20,
            "min": 5,
            "orientation": "horizontal",
            "readout": true,
            "readout_format": "d",
            "step": 1,
            "style": "IPY_MODEL_6c1c27ee5cbe4c31913212fcb2607300",
            "value": 12
          }
        },
        "62c553d36efd4b64847e291c77b2942b": {
          "model_module": "@jupyter-widgets/controls",
          "model_name": "FloatSliderModel",
          "model_module_version": "1.5.0",
          "state": {
            "_dom_classes": [],
            "_model_module": "@jupyter-widgets/controls",
            "_model_module_version": "1.5.0",
            "_model_name": "FloatSliderModel",
            "_view_count": null,
            "_view_module": "@jupyter-widgets/controls",
            "_view_module_version": "1.5.0",
            "_view_name": "FloatSliderView",
            "continuous_update": true,
            "description": "linewidth",
            "description_tooltip": null,
            "disabled": false,
            "layout": "IPY_MODEL_72a00e883d334895aa4b2285817c8fa7",
            "max": 5,
            "min": 0.5,
            "orientation": "horizontal",
            "readout": true,
            "readout_format": ".2f",
            "step": 0.5,
            "style": "IPY_MODEL_b4a356754e92421fb04bac273f8ece16",
            "value": 2.5
          }
        },
        "72303fbea6d44c46aedbc16768c81316": {
          "model_module": "@jupyter-widgets/controls",
          "model_name": "IntSliderModel",
          "model_module_version": "1.5.0",
          "state": {
            "_dom_classes": [],
            "_model_module": "@jupyter-widgets/controls",
            "_model_module_version": "1.5.0",
            "_model_name": "IntSliderModel",
            "_view_count": null,
            "_view_module": "@jupyter-widgets/controls",
            "_view_module_version": "1.5.0",
            "_view_name": "IntSliderView",
            "continuous_update": true,
            "description": "fontsize",
            "description_tooltip": null,
            "disabled": false,
            "layout": "IPY_MODEL_3e466aabf00948d59ab336ada4d36048",
            "max": 20,
            "min": 10,
            "orientation": "horizontal",
            "readout": true,
            "readout_format": "d",
            "step": 2,
            "style": "IPY_MODEL_e89cecad316f4189bf9d3dc64ad7ffd4",
            "value": 14
          }
        },
        "219004d919c5444cb4bec49fb03f11fa": {
          "model_module": "@jupyter-widgets/output",
          "model_name": "OutputModel",
          "model_module_version": "1.0.0",
          "state": {
            "_dom_classes": [],
            "_model_module": "@jupyter-widgets/output",
            "_model_module_version": "1.0.0",
            "_model_name": "OutputModel",
            "_view_count": null,
            "_view_module": "@jupyter-widgets/output",
            "_view_module_version": "1.0.0",
            "_view_name": "OutputView",
            "layout": "IPY_MODEL_23853fce218d42ce8bf1ae510c7f4f8d",
            "msg_id": "",
            "outputs": [
              {
                "output_type": "display_data",
                "data": {
                  "text/plain": "<Figure size 864x864 with 1 Axes>",
                  "image/png": "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\n"
                },
                "metadata": {
                  "needs_background": "light"
                }
              }
            ]
          }
        },
        "9f22a43d4f8e466dadf6aee327f4f20d": {
          "model_module": "@jupyter-widgets/base",
          "model_name": "LayoutModel",
          "model_module_version": "1.2.0",
          "state": {
            "_model_module": "@jupyter-widgets/base",
            "_model_module_version": "1.2.0",
            "_model_name": "LayoutModel",
            "_view_count": null,
            "_view_module": "@jupyter-widgets/base",
            "_view_module_version": "1.2.0",
            "_view_name": "LayoutView",
            "align_content": null,
            "align_items": null,
            "align_self": null,
            "border": null,
            "bottom": null,
            "display": null,
            "flex": null,
            "flex_flow": null,
            "grid_area": null,
            "grid_auto_columns": null,
            "grid_auto_flow": null,
            "grid_auto_rows": null,
            "grid_column": null,
            "grid_gap": null,
            "grid_row": null,
            "grid_template_areas": null,
            "grid_template_columns": null,
            "grid_template_rows": null,
            "height": null,
            "justify_content": null,
            "justify_items": null,
            "left": null,
            "margin": null,
            "max_height": null,
            "max_width": null,
            "min_height": null,
            "min_width": null,
            "object_fit": null,
            "object_position": null,
            "order": null,
            "overflow": null,
            "overflow_x": null,
            "overflow_y": null,
            "padding": null,
            "right": null,
            "top": null,
            "visibility": null,
            "width": null
          }
        },
        "3e08648ffac94538a7011397076c8aa2": {
          "model_module": "@jupyter-widgets/base",
          "model_name": "LayoutModel",
          "model_module_version": "1.2.0",
          "state": {
            "_model_module": "@jupyter-widgets/base",
            "_model_module_version": "1.2.0",
            "_model_name": "LayoutModel",
            "_view_count": null,
            "_view_module": "@jupyter-widgets/base",
            "_view_module_version": "1.2.0",
            "_view_name": "LayoutView",
            "align_content": null,
            "align_items": null,
            "align_self": null,
            "border": null,
            "bottom": null,
            "display": null,
            "flex": null,
            "flex_flow": null,
            "grid_area": null,
            "grid_auto_columns": null,
            "grid_auto_flow": null,
            "grid_auto_rows": null,
            "grid_column": null,
            "grid_gap": null,
            "grid_row": null,
            "grid_template_areas": null,
            "grid_template_columns": null,
            "grid_template_rows": null,
            "height": null,
            "justify_content": null,
            "justify_items": null,
            "left": null,
            "margin": null,
            "max_height": null,
            "max_width": null,
            "min_height": null,
            "min_width": null,
            "object_fit": null,
            "object_position": null,
            "order": null,
            "overflow": null,
            "overflow_x": null,
            "overflow_y": null,
            "padding": null,
            "right": null,
            "top": null,
            "visibility": null,
            "width": null
          }
        },
        "d1e89024e44b4e8d8e0f378c68de59c1": {
          "model_module": "@jupyter-widgets/controls",
          "model_name": "SliderStyleModel",
          "model_module_version": "1.5.0",
          "state": {
            "_model_module": "@jupyter-widgets/controls",
            "_model_module_version": "1.5.0",
            "_model_name": "SliderStyleModel",
            "_view_count": null,
            "_view_module": "@jupyter-widgets/base",
            "_view_module_version": "1.2.0",
            "_view_name": "StyleView",
            "description_width": "",
            "handle_color": null
          }
        },
        "880eccf150df4c339c04434274cf84f3": {
          "model_module": "@jupyter-widgets/base",
          "model_name": "LayoutModel",
          "model_module_version": "1.2.0",
          "state": {
            "_model_module": "@jupyter-widgets/base",
            "_model_module_version": "1.2.0",
            "_model_name": "LayoutModel",
            "_view_count": null,
            "_view_module": "@jupyter-widgets/base",
            "_view_module_version": "1.2.0",
            "_view_name": "LayoutView",
            "align_content": null,
            "align_items": null,
            "align_self": null,
            "border": null,
            "bottom": null,
            "display": null,
            "flex": null,
            "flex_flow": null,
            "grid_area": null,
            "grid_auto_columns": null,
            "grid_auto_flow": null,
            "grid_auto_rows": null,
            "grid_column": null,
            "grid_gap": null,
            "grid_row": null,
            "grid_template_areas": null,
            "grid_template_columns": null,
            "grid_template_rows": null,
            "height": null,
            "justify_content": null,
            "justify_items": null,
            "left": null,
            "margin": null,
            "max_height": null,
            "max_width": null,
            "min_height": null,
            "min_width": null,
            "object_fit": null,
            "object_position": null,
            "order": null,
            "overflow": null,
            "overflow_x": null,
            "overflow_y": null,
            "padding": null,
            "right": null,
            "top": null,
            "visibility": null,
            "width": null
          }
        },
        "f8ba0c9249334a2cbf93a702feb18db9": {
          "model_module": "@jupyter-widgets/controls",
          "model_name": "SliderStyleModel",
          "model_module_version": "1.5.0",
          "state": {
            "_model_module": "@jupyter-widgets/controls",
            "_model_module_version": "1.5.0",
            "_model_name": "SliderStyleModel",
            "_view_count": null,
            "_view_module": "@jupyter-widgets/base",
            "_view_module_version": "1.2.0",
            "_view_name": "StyleView",
            "description_width": "",
            "handle_color": null
          }
        },
        "75a7b9005a5e4aef967aa8955fceab0b": {
          "model_module": "@jupyter-widgets/base",
          "model_name": "LayoutModel",
          "model_module_version": "1.2.0",
          "state": {
            "_model_module": "@jupyter-widgets/base",
            "_model_module_version": "1.2.0",
            "_model_name": "LayoutModel",
            "_view_count": null,
            "_view_module": "@jupyter-widgets/base",
            "_view_module_version": "1.2.0",
            "_view_name": "LayoutView",
            "align_content": null,
            "align_items": null,
            "align_self": null,
            "border": null,
            "bottom": null,
            "display": null,
            "flex": null,
            "flex_flow": null,
            "grid_area": null,
            "grid_auto_columns": null,
            "grid_auto_flow": null,
            "grid_auto_rows": null,
            "grid_column": null,
            "grid_gap": null,
            "grid_row": null,
            "grid_template_areas": null,
            "grid_template_columns": null,
            "grid_template_rows": null,
            "height": null,
            "justify_content": null,
            "justify_items": null,
            "left": null,
            "margin": null,
            "max_height": null,
            "max_width": null,
            "min_height": null,
            "min_width": null,
            "object_fit": null,
            "object_position": null,
            "order": null,
            "overflow": null,
            "overflow_x": null,
            "overflow_y": null,
            "padding": null,
            "right": null,
            "top": null,
            "visibility": null,
            "width": null
          }
        },
        "6c1c27ee5cbe4c31913212fcb2607300": {
          "model_module": "@jupyter-widgets/controls",
          "model_name": "SliderStyleModel",
          "model_module_version": "1.5.0",
          "state": {
            "_model_module": "@jupyter-widgets/controls",
            "_model_module_version": "1.5.0",
            "_model_name": "SliderStyleModel",
            "_view_count": null,
            "_view_module": "@jupyter-widgets/base",
            "_view_module_version": "1.2.0",
            "_view_name": "StyleView",
            "description_width": "",
            "handle_color": null
          }
        },
        "72a00e883d334895aa4b2285817c8fa7": {
          "model_module": "@jupyter-widgets/base",
          "model_name": "LayoutModel",
          "model_module_version": "1.2.0",
          "state": {
            "_model_module": "@jupyter-widgets/base",
            "_model_module_version": "1.2.0",
            "_model_name": "LayoutModel",
            "_view_count": null,
            "_view_module": "@jupyter-widgets/base",
            "_view_module_version": "1.2.0",
            "_view_name": "LayoutView",
            "align_content": null,
            "align_items": null,
            "align_self": null,
            "border": null,
            "bottom": null,
            "display": null,
            "flex": null,
            "flex_flow": null,
            "grid_area": null,
            "grid_auto_columns": null,
            "grid_auto_flow": null,
            "grid_auto_rows": null,
            "grid_column": null,
            "grid_gap": null,
            "grid_row": null,
            "grid_template_areas": null,
            "grid_template_columns": null,
            "grid_template_rows": null,
            "height": null,
            "justify_content": null,
            "justify_items": null,
            "left": null,
            "margin": null,
            "max_height": null,
            "max_width": null,
            "min_height": null,
            "min_width": null,
            "object_fit": null,
            "object_position": null,
            "order": null,
            "overflow": null,
            "overflow_x": null,
            "overflow_y": null,
            "padding": null,
            "right": null,
            "top": null,
            "visibility": null,
            "width": null
          }
        },
        "b4a356754e92421fb04bac273f8ece16": {
          "model_module": "@jupyter-widgets/controls",
          "model_name": "SliderStyleModel",
          "model_module_version": "1.5.0",
          "state": {
            "_model_module": "@jupyter-widgets/controls",
            "_model_module_version": "1.5.0",
            "_model_name": "SliderStyleModel",
            "_view_count": null,
            "_view_module": "@jupyter-widgets/base",
            "_view_module_version": "1.2.0",
            "_view_name": "StyleView",
            "description_width": "",
            "handle_color": null
          }
        },
        "3e466aabf00948d59ab336ada4d36048": {
          "model_module": "@jupyter-widgets/base",
          "model_name": "LayoutModel",
          "model_module_version": "1.2.0",
          "state": {
            "_model_module": "@jupyter-widgets/base",
            "_model_module_version": "1.2.0",
            "_model_name": "LayoutModel",
            "_view_count": null,
            "_view_module": "@jupyter-widgets/base",
            "_view_module_version": "1.2.0",
            "_view_name": "LayoutView",
            "align_content": null,
            "align_items": null,
            "align_self": null,
            "border": null,
            "bottom": null,
            "display": null,
            "flex": null,
            "flex_flow": null,
            "grid_area": null,
            "grid_auto_columns": null,
            "grid_auto_flow": null,
            "grid_auto_rows": null,
            "grid_column": null,
            "grid_gap": null,
            "grid_row": null,
            "grid_template_areas": null,
            "grid_template_columns": null,
            "grid_template_rows": null,
            "height": null,
            "justify_content": null,
            "justify_items": null,
            "left": null,
            "margin": null,
            "max_height": null,
            "max_width": null,
            "min_height": null,
            "min_width": null,
            "object_fit": null,
            "object_position": null,
            "order": null,
            "overflow": null,
            "overflow_x": null,
            "overflow_y": null,
            "padding": null,
            "right": null,
            "top": null,
            "visibility": null,
            "width": null
          }
        },
        "e89cecad316f4189bf9d3dc64ad7ffd4": {
          "model_module": "@jupyter-widgets/controls",
          "model_name": "SliderStyleModel",
          "model_module_version": "1.5.0",
          "state": {
            "_model_module": "@jupyter-widgets/controls",
            "_model_module_version": "1.5.0",
            "_model_name": "SliderStyleModel",
            "_view_count": null,
            "_view_module": "@jupyter-widgets/base",
            "_view_module_version": "1.2.0",
            "_view_name": "StyleView",
            "description_width": "",
            "handle_color": null
          }
        },
        "23853fce218d42ce8bf1ae510c7f4f8d": {
          "model_module": "@jupyter-widgets/base",
          "model_name": "LayoutModel",
          "model_module_version": "1.2.0",
          "state": {
            "_model_module": "@jupyter-widgets/base",
            "_model_module_version": "1.2.0",
            "_model_name": "LayoutModel",
            "_view_count": null,
            "_view_module": "@jupyter-widgets/base",
            "_view_module_version": "1.2.0",
            "_view_name": "LayoutView",
            "align_content": null,
            "align_items": null,
            "align_self": null,
            "border": null,
            "bottom": null,
            "display": null,
            "flex": null,
            "flex_flow": null,
            "grid_area": null,
            "grid_auto_columns": null,
            "grid_auto_flow": null,
            "grid_auto_rows": null,
            "grid_column": null,
            "grid_gap": null,
            "grid_row": null,
            "grid_template_areas": null,
            "grid_template_columns": null,
            "grid_template_rows": null,
            "height": null,
            "justify_content": null,
            "justify_items": null,
            "left": null,
            "margin": null,
            "max_height": null,
            "max_width": null,
            "min_height": null,
            "min_width": null,
            "object_fit": null,
            "object_position": null,
            "order": null,
            "overflow": null,
            "overflow_x": null,
            "overflow_y": null,
            "padding": null,
            "right": null,
            "top": null,
            "visibility": null,
            "width": null
          }
        }
      }
    }
  },
  "cells": [
    {
      "cell_type": "markdown",
      "metadata": {
        "id": "view-in-github",
        "colab_type": "text"
      },
      "source": [
        "<a href=\"https://colab.research.google.com/github/anaalucca/pod_academy/blob/main/nivelamento_matematica.ipynb\" target=\"_parent\"><img src=\"https://colab.research.google.com/assets/colab-badge.svg\" alt=\"Open In Colab\"/></a>"
      ]
    },
    {
      "cell_type": "markdown",
      "source": [
        "# **Nivelamento em matemática**\n",
        "\n",
        "* Códigos em Python mostrados nas aulas de nivelamento em matemática da PoD Academy.\n",
        "\n",
        "* Bibliotecas numpy e matplotlib importadas em várias células afim de exemplificar a necessidade delas, mas a importação é necessária somente uma vez em um notebook. "
      ],
      "metadata": {
        "id": "DvFrBMB-CG3l"
      }
    },
    {
      "cell_type": "markdown",
      "source": [
        "### **Conjuntos** "
      ],
      "metadata": {
        "id": "y2JtNCH3C5aX"
      }
    },
    {
      "cell_type": "code",
      "source": [
        "# Definindo os conjuntos \n",
        "A = {1,2,3,4,5,6,7}\n",
        "B = {5,6,7,8,9,10,11}"
      ],
      "metadata": {
        "id": "YJLtALYFCWi-"
      },
      "execution_count": 43,
      "outputs": []
    },
    {
      "cell_type": "markdown",
      "source": [
        "#### **União**\n",
        "\n",
        "União dos conjutnos A e B é o conjunto formado com os elementos de A **ou** B.\n",
        "* A ∪ B = {x | x ∈ A ∨ x ∈ B}"
      ],
      "metadata": {
        "id": "G9cqRwxoGUu0"
      }
    },
    {
      "cell_type": "code",
      "source": [
        "C = A | B "
      ],
      "metadata": {
        "id": "1H_mKuB3GTkB"
      },
      "execution_count": 44,
      "outputs": []
    },
    {
      "cell_type": "code",
      "source": [
        "print(C)"
      ],
      "metadata": {
        "colab": {
          "base_uri": "https://localhost:8080/"
        },
        "id": "NJHNh1zyGe8w",
        "outputId": "bc03d79d-ce33-4c6f-e1ef-d4921d39819b"
      },
      "execution_count": 45,
      "outputs": [
        {
          "output_type": "stream",
          "name": "stdout",
          "text": [
            "{1, 2, 3, 4, 5, 6, 7, 8, 9, 10, 11}\n"
          ]
        }
      ]
    },
    {
      "cell_type": "markdown",
      "source": [
        "#### **Intersecção**\n",
        "\n",
        "Intersecção dos conjuntos A e B é o conjunto formado com os elementos de A **e** B.\n",
        "* A ∩ B = {x | x ∈ A ∧ x ∈ B}"
      ],
      "metadata": {
        "id": "1DHjPWWbGo4S"
      }
    },
    {
      "cell_type": "code",
      "source": [
        "C = A & B"
      ],
      "metadata": {
        "id": "_vGfo7rlGmr-"
      },
      "execution_count": 46,
      "outputs": []
    },
    {
      "cell_type": "code",
      "source": [
        "print (C)"
      ],
      "metadata": {
        "colab": {
          "base_uri": "https://localhost:8080/"
        },
        "id": "5AURzSoHGvbV",
        "outputId": "bd381f8b-31d9-4b00-f208-6490d10579b4"
      },
      "execution_count": 47,
      "outputs": [
        {
          "output_type": "stream",
          "name": "stdout",
          "text": [
            "{5, 6, 7}\n"
          ]
        }
      ]
    },
    {
      "cell_type": "markdown",
      "source": [
        "#### **Diferença**\n",
        "\n",
        "Diferença entre os conjuntos A e B é o conjunto formado pelos elementos que pertencem a A e não pertencem a B.\n",
        "* A - B = {x | x ∈ A ∧ x ∉ B}"
      ],
      "metadata": {
        "id": "w79r7_cfG2EP"
      }
    },
    {
      "cell_type": "code",
      "source": [
        "C = A - B"
      ],
      "metadata": {
        "id": "npkzr70xGzOh"
      },
      "execution_count": 6,
      "outputs": []
    },
    {
      "cell_type": "code",
      "source": [
        "print(C)"
      ],
      "metadata": {
        "colab": {
          "base_uri": "https://localhost:8080/"
        },
        "id": "MqkMlqloG7tN",
        "outputId": "f6ddbc66-7bf1-46eb-a30d-c29e9aeda9e0"
      },
      "execution_count": 7,
      "outputs": [
        {
          "output_type": "stream",
          "name": "stdout",
          "text": [
            "{1, 2, 3, 4}\n"
          ]
        }
      ]
    },
    {
      "cell_type": "markdown",
      "source": [
        "#### **Complemento**\n",
        "\n",
        "Complemento de A em relação a B é a diferença B - A.\n",
        "* CAB = {x | x ∈ B - A}\n",
        "\n",
        "No caso de B ser o conjunto universo U denotamos o complemento de A por Ac ou -A.\n",
        "* Ac = -A = {x | x ∈ U - A}"
      ],
      "metadata": {
        "id": "AS89ls5sG95w"
      }
    },
    {
      "cell_type": "code",
      "source": [
        "C = B - A"
      ],
      "metadata": {
        "id": "x3MIhBMEHBql"
      },
      "execution_count": 8,
      "outputs": []
    },
    {
      "cell_type": "code",
      "source": [
        "print(C)"
      ],
      "metadata": {
        "colab": {
          "base_uri": "https://localhost:8080/"
        },
        "id": "gzt692kiHEUF",
        "outputId": "31117acb-ac7a-47be-a434-7e42029f5cea"
      },
      "execution_count": 9,
      "outputs": [
        {
          "output_type": "stream",
          "name": "stdout",
          "text": [
            "{8, 9, 10, 11}\n"
          ]
        }
      ]
    },
    {
      "cell_type": "markdown",
      "source": [
        "#### **Diferença Simétrica**\n",
        "\n",
        "Diferença simétrica entre os conjuntos A e B é o conjunto formado pelos elementos que pertencem a A ∪ B - A ∩ B.\n",
        "* A ^ B = {x | x ∈ A ∪ B - A ∩ B}"
      ],
      "metadata": {
        "id": "5bcnU2n4HJK_"
      }
    },
    {
      "cell_type": "code",
      "source": [
        "C = A ^ B"
      ],
      "metadata": {
        "id": "PsCDOhUnHMdI"
      },
      "execution_count": 10,
      "outputs": []
    },
    {
      "cell_type": "code",
      "source": [
        "print(C)"
      ],
      "metadata": {
        "colab": {
          "base_uri": "https://localhost:8080/"
        },
        "id": "SBXIzZXAHOvw",
        "outputId": "c7b9fda9-6a2b-4a03-f990-2aa66a059bb7"
      },
      "execution_count": 11,
      "outputs": [
        {
          "output_type": "stream",
          "name": "stdout",
          "text": [
            "{1, 2, 3, 4, 8, 9, 10, 11}\n"
          ]
        }
      ]
    },
    {
      "cell_type": "markdown",
      "source": [
        "### **Conjuntos com Python**"
      ],
      "metadata": {
        "id": "mrs7xYiQHVva"
      }
    },
    {
      "cell_type": "markdown",
      "source": [
        "#### **Criação de Sets**\n",
        "\n",
        "Python nos permite criar sets de várias formas. Uma das formas mais frequentemente usadas é criar um set a partir de uma lista de elementos. "
      ],
      "metadata": {
        "id": "QymIk-6AZtry"
      }
    },
    {
      "cell_type": "code",
      "source": [
        "# exemplo da criação de sets\n",
        "numeros = [1,2,2,3,3]\n",
        "numeros_distintos = set(numeros)\n",
        "print(\"Números: \", numeros)\n",
        "print(\"Números distintos: \", numeros_distintos)"
      ],
      "metadata": {
        "colab": {
          "base_uri": "https://localhost:8080/"
        },
        "id": "GeZdFk6SHcQg",
        "outputId": "03b557e4-1e70-40cd-d9dd-8067c43686fd"
      },
      "execution_count": 12,
      "outputs": [
        {
          "output_type": "stream",
          "name": "stdout",
          "text": [
            "Números:  [1, 2, 2, 3, 3]\n",
            "Números distintos:  {1, 2, 3}\n"
          ]
        }
      ]
    },
    {
      "cell_type": "markdown",
      "source": [
        "Outra forma de criarmos sets em Python é criar um conjunto vazio e inserir elementos nele a medida que desejarmos. "
      ],
      "metadata": {
        "id": "gRz0ez5VNLrc"
      }
    },
    {
      "cell_type": "code",
      "source": [
        "# exemplo da criação de sets \n",
        "numeros = [1,2,2,3,3]\n",
        "numeros_distintos = set()\n",
        "for num in numeros:\n",
        "  numeros_distintos.add(num)\n",
        "print(\"Números: \", numeros)\n",
        "print(\"Números distintos: \", numeros_distintos)"
      ],
      "metadata": {
        "colab": {
          "base_uri": "https://localhost:8080/"
        },
        "id": "-pXr7xh2NhF4",
        "outputId": "b0ca3aae-0578-4e18-8247-63ff8c3278dd"
      },
      "execution_count": 13,
      "outputs": [
        {
          "output_type": "stream",
          "name": "stdout",
          "text": [
            "Números:  [1, 2, 2, 3, 3]\n",
            "Números distintos:  {1, 2, 3}\n"
          ]
        }
      ]
    },
    {
      "cell_type": "markdown",
      "source": [
        "#### **União e Intersecção em Python**"
      ],
      "metadata": {
        "id": "2BN3S-oKX_Cj"
      }
    },
    {
      "cell_type": "code",
      "source": [
        "from pylab import *\n",
        "\n",
        "# Definindo os conjuntos\n",
        "A = {1,2,3,4,5,6}\n",
        "B = set([2,5,1,10])\n",
        "\n",
        "# União\n",
        "C = A.union(B)\n",
        "print(C)\n",
        "# Intersecção\n",
        "D = A.intersection(B)\n",
        "print(D)"
      ],
      "metadata": {
        "colab": {
          "base_uri": "https://localhost:8080/"
        },
        "id": "TT57Cg8yYJSR",
        "outputId": "754ef336-e26f-4453-ec72-43ed110bddf6"
      },
      "execution_count": 49,
      "outputs": [
        {
          "output_type": "stream",
          "name": "stdout",
          "text": [
            "{1, 2, 3, 4, 5, 6, 10}\n",
            "{1, 2, 5}\n"
          ]
        }
      ]
    },
    {
      "cell_type": "markdown",
      "source": [
        "#### **Exemplo de definição e operações com conjuntos**"
      ],
      "metadata": {
        "id": "jEbRKig2aACn"
      }
    },
    {
      "cell_type": "code",
      "source": [
        "# Uma forma de definir conjunto\n",
        "A = set([\"laranja\", \"banana\", \"maçã\", \"abacate\"])\n",
        "\n",
        "# Outra forma (strings podem ser delimitados ou por aspas simples ou duplas)\n",
        "B = {'banana', \"maçã\", \"morango\", 'acerola'}"
      ],
      "metadata": {
        "id": "2fHjlBJbZHbW"
      },
      "execution_count": 51,
      "outputs": []
    },
    {
      "cell_type": "code",
      "source": [
        "# União de conjuntos\n",
        "C = A | B\n",
        "print(C)"
      ],
      "metadata": {
        "colab": {
          "base_uri": "https://localhost:8080/"
        },
        "id": "Ll7Ih9JVaRNp",
        "outputId": "be1861e0-da88-48e5-c247-d66a40a555f7"
      },
      "execution_count": 52,
      "outputs": [
        {
          "output_type": "stream",
          "name": "stdout",
          "text": [
            "{'banana', 'abacate', 'acerola', 'maçã', 'laranja', 'morango'}\n"
          ]
        }
      ]
    },
    {
      "cell_type": "code",
      "source": [
        "# Interseção\n",
        "D = A & B\n",
        "print(D)"
      ],
      "metadata": {
        "colab": {
          "base_uri": "https://localhost:8080/"
        },
        "id": "F0j3VNlCaUxX",
        "outputId": "762e2d0e-445b-47e4-bb3c-695cb6f9b08f"
      },
      "execution_count": 53,
      "outputs": [
        {
          "output_type": "stream",
          "name": "stdout",
          "text": [
            "{'maçã', 'banana'}\n"
          ]
        }
      ]
    },
    {
      "cell_type": "code",
      "source": [
        "# Diferença\n",
        "E = A - B\n",
        "print(E)"
      ],
      "metadata": {
        "colab": {
          "base_uri": "https://localhost:8080/"
        },
        "id": "CEllGQ1yaXSA",
        "outputId": "991fbab7-ea7a-472c-8719-74ef3ea871d1"
      },
      "execution_count": 54,
      "outputs": [
        {
          "output_type": "stream",
          "name": "stdout",
          "text": [
            "{'laranja', 'abacate'}\n"
          ]
        }
      ]
    },
    {
      "cell_type": "code",
      "source": [
        "# Diferença simétrica \n",
        "F = A ^ B\n",
        "print(F)"
      ],
      "metadata": {
        "colab": {
          "base_uri": "https://localhost:8080/"
        },
        "id": "Bj8SbqEKaYxR",
        "outputId": "3ce1c75e-0a01-4bbd-8d3e-761328731094"
      },
      "execution_count": 55,
      "outputs": [
        {
          "output_type": "stream",
          "name": "stdout",
          "text": [
            "{'laranja', 'acerola', 'abacate', 'morango'}\n"
          ]
        }
      ]
    },
    {
      "cell_type": "code",
      "source": [
        "# A é subconjunto de C?\n",
        "b1 = A <= C\n",
        "print(b1)"
      ],
      "metadata": {
        "colab": {
          "base_uri": "https://localhost:8080/"
        },
        "id": "1gS31Zs1aege",
        "outputId": "ff09318b-6cfc-48e7-e7a6-a2c3c4592bd8"
      },
      "execution_count": 56,
      "outputs": [
        {
          "output_type": "stream",
          "name": "stdout",
          "text": [
            "True\n"
          ]
        }
      ]
    },
    {
      "cell_type": "code",
      "source": [
        "# A contem C?\n",
        "b2 = A >= C\n",
        "print(b2)"
      ],
      "metadata": {
        "colab": {
          "base_uri": "https://localhost:8080/"
        },
        "id": "mocUj7hkahju",
        "outputId": "5395013e-9020-4fcd-ac16-56d707ad99dd"
      },
      "execution_count": 57,
      "outputs": [
        {
          "output_type": "stream",
          "name": "stdout",
          "text": [
            "False\n"
          ]
        }
      ]
    },
    {
      "cell_type": "code",
      "source": [
        "# Os conjuntos são disjuntos?\n",
        "b3 = A.isdisjoint(B)\n",
        "print(b3)"
      ],
      "metadata": {
        "colab": {
          "base_uri": "https://localhost:8080/"
        },
        "id": "NsY8ck1rakR9",
        "outputId": "4ff47427-f0a8-4fab-b6e4-e878e57d8e6c"
      },
      "execution_count": 58,
      "outputs": [
        {
          "output_type": "stream",
          "name": "stdout",
          "text": [
            "False\n"
          ]
        }
      ]
    },
    {
      "cell_type": "code",
      "source": [
        "# banana é elemento de A?\n",
        "b4 = \"banana\" in A\n",
        "print(b4)"
      ],
      "metadata": {
        "colab": {
          "base_uri": "https://localhost:8080/"
        },
        "id": "I3KQ1vm3ammu",
        "outputId": "53a964cd-c631-4b64-c459-eeed28f289fe"
      },
      "execution_count": 59,
      "outputs": [
        {
          "output_type": "stream",
          "name": "stdout",
          "text": [
            "True\n"
          ]
        }
      ]
    },
    {
      "cell_type": "code",
      "source": [
        "# Removendo elemento de conjunto\n",
        "A.discard(\"maçã\")\n",
        "print(A)"
      ],
      "metadata": {
        "colab": {
          "base_uri": "https://localhost:8080/"
        },
        "id": "lrZnKoSpapNQ",
        "outputId": "6eb3c08e-a90e-49c3-dde7-e7538b0cec01"
      },
      "execution_count": 60,
      "outputs": [
        {
          "output_type": "stream",
          "name": "stdout",
          "text": [
            "{'banana', 'laranja', 'abacate'}\n"
          ]
        }
      ]
    },
    {
      "cell_type": "code",
      "source": [
        "# Tamanho de um conjunto\n",
        "l = len(A)\n",
        "print(l)"
      ],
      "metadata": {
        "colab": {
          "base_uri": "https://localhost:8080/"
        },
        "id": "sF266HO5arsb",
        "outputId": "e13fa148-98ae-4cad-867b-3593183411ad"
      },
      "execution_count": 61,
      "outputs": [
        {
          "output_type": "stream",
          "name": "stdout",
          "text": [
            "3\n"
          ]
        }
      ]
    },
    {
      "cell_type": "markdown",
      "source": [
        "### **Funções**"
      ],
      "metadata": {
        "id": "A5Bqa3W2OUJ6"
      }
    },
    {
      "cell_type": "markdown",
      "source": [
        "#### **Exemplo da aula sobre Função Polinomial**"
      ],
      "metadata": {
        "id": "aSbZIaMybZq4"
      }
    },
    {
      "cell_type": "code",
      "source": [
        "import numpy as np\n",
        "import matplotlib.pyplot as plt\n",
        "from pylab import *         \n",
        "\n",
        "# Ffunção polinomial do slide\n",
        "\n",
        "# Parâmetros\n",
        "a0 = -1\n",
        "a1 = 5/2\n",
        "a2 = 0\n",
        "a3 = -5/2\n",
        "a4 = 1\n",
        "\n",
        "# Definindo o intervalo: domínio da função\n",
        "x = arange(-1.1,2.1,0.01)\n",
        "\n",
        "# Calculando a imagem da função\n",
        "y = a4*x**4+a3*x**3+a2*x**2+a1*x+a0\n",
        "\n",
        "# Plot da função\n",
        "figure(1)\n",
        "plot(x,y)\n",
        "title(\"Função Linear\")\n",
        "xlabel(\"x\")\n",
        "ylabel(r\"$x^4-\\frac{5}{2}x^3+\\frac{5}{2}x-1$\")  # aceita TeX\n",
        "minorticks_on()\n",
        "grid(visible=True, which=\"major\", color=\"#666666\", linestyle=\"-\")\n",
        "grid(visible=True, which=\"minor\", color=\"#999999\", linestyle=\"-\", alpha=0.2)\n",
        "show()"
      ],
      "metadata": {
        "colab": {
          "base_uri": "https://localhost:8080/",
          "height": 295
        },
        "id": "gIxFMKzubDlj",
        "outputId": "e7d717cb-a69a-4d0f-b335-f8f479c9c8ac"
      },
      "execution_count": 68,
      "outputs": [
        {
          "output_type": "display_data",
          "data": {
            "text/plain": [
              "<Figure size 432x288 with 1 Axes>"
            ],
            "image/png": "[encoded data removed]"
          },
          "metadata": {
            "needs_background": "light"
          }
        }
      ]
    },
    {
      "cell_type": "markdown",
      "source": [
        "#### **Exemplo de função no Python**\n",
        "\n",
        "Incluso em aula comentada 1 disponibilizada pelo Bruno."
      ],
      "metadata": {
        "id": "lU3klVc7PMa7"
      }
    },
    {
      "cell_type": "code",
      "source": [
        "def calcular_pagamento(qtd_horas, valor_hora):\n",
        "  horas = float(qtd_horas)\n",
        "  taxa = float(valor_hora)\n",
        "  if horas <= 40:\n",
        "    salario = horas * taxa\n",
        "  else:\n",
        "    h_excd = horas - 40\n",
        "    salario = 40 * taxa + (h_excd * (1.5 * taxa))\n",
        "  return salario"
      ],
      "metadata": {
        "id": "pzwRkc37OTgM"
      },
      "execution_count": 62,
      "outputs": []
    },
    {
      "cell_type": "markdown",
      "source": [
        "#### **Função Linear**\n",
        "\n",
        "# $$f(x) = mx+b$$\n",
        "\n"
      ],
      "metadata": {
        "id": "FCrHHxBuTzzx"
      }
    },
    {
      "cell_type": "code",
      "source": [
        "import numpy as np\n",
        "import matplotlib.pyplot as plt\n",
        "from ipywidgets import interact\n",
        "\n",
        "def plot_linear(m, b, figsize, linewidth, fontsize):\n",
        "    fig, ax = plt.subplots(figsize=(figsize,figsize))\n",
        "    x = np.linspace(-10, 10, num=100)\n",
        "    y = m * x + b\n",
        "    ax.plot(x, y, linewidth=linewidth)\n",
        "    ax.set_xlabel(\"X\", fontsize=fontsize)\n",
        "    ax.set_ylabel(\"Y\", fontsize=fontsize)\n",
        "    ax.tick_params(labelsize=fontsize)\n",
        "    ax.grid(True)\n",
        "    plt.show()\n",
        "\n",
        "interact(plot_linear, m=(-5, 5, 0.5), b=(-5, 5, 0.5), figsize=(5, 20), linewidth=(0.5, 5, 0.5), fontsize=(10, 20, 2));"
      ],
      "metadata": {
        "colab": {
          "base_uri": "https://localhost:8080/",
          "height": 0,
          "referenced_widgets": [
            "6f8f0fbf38724b6a81d8ebf6f730f5b0",
            "30e5938be3f148368c1ef3cfb77b6637",
            "6a0243e75cf04161847bd9311fb6cde1",
            "0e8c1662def04030949fef277d541043",
            "339830e5a05a495a839fc6bfbf70a971",
            "03684eab9407490fb14c7b4bc22ec0ff",
            "05093c552ece4ba29903688d712769ae",
            "28cd911641f545b4a1f7d48b6d71d5ee",
            "4469d9cd18174aff94fd4488f9463cd6",
            "a88f3a50f7cb41dcbc88e2a75959c29a",
            "02faf22264ca4d27a79f889eceedc0eb",
            "ba73701e016c4905aed00ff8e0056371",
            "2cde94f7d0554b19b2b6d9c4a10becdd",
            "1296c034b43646769008701d972d24c1",
            "6c51db5c80374f3cb13b7f466328b513",
            "1b497a987bc24fe7b544365495685065",
            "e97c0727ba5245758cdf27303074661a",
            "35093c6f6bae44169748bb6e5b12e640",
            "da59e58e1f3749f6ad760960f8d2b8ac"
          ]
        },
        "id": "uIlaLN59UDIM",
        "outputId": "52f2d1f8-e868-4363-c413-c8586ee7f9f1"
      },
      "execution_count": 63,
      "outputs": [
        {
          "output_type": "display_data",
          "data": {
            "text/plain": [
              "interactive(children=(FloatSlider(value=0.0, description='m', max=5.0, min=-5.0, step=0.5), FloatSlider(value=…"
            ],
            "application/vnd.jupyter.widget-view+json": {
              "version_major": 2,
              "version_minor": 0,
              "model_id": "6f8f0fbf38724b6a81d8ebf6f730f5b0"
            }
          },
          "metadata": {}
        }
      ]
    },
    {
      "cell_type": "markdown",
      "source": [
        "#### **Função Quadrática**\n",
        "\n",
        "# $$f(x) = ax^2+bx+c$$"
      ],
      "metadata": {
        "id": "iZTScg9kUeZj"
      }
    },
    {
      "cell_type": "code",
      "source": [
        "import numpy as np\n",
        "import matplotlib.pyplot as plt\n",
        "from ipywidgets import interact\n",
        "\n",
        "def plot_quadratic(a, b, c, figsize, linewidth, fontsize):\n",
        "    fig, ax = plt.subplots(figsize=(figsize,figsize))\n",
        "    x = np.linspace(-10, 10, num=100)\n",
        "    y = a * x**2 + b * x + c\n",
        "    ax.plot(x, y, linewidth=linewidth)\n",
        "    ax.set_xlabel(\"X\", fontsize=fontsize)\n",
        "    ax.set_ylabel(\"Y\", fontsize=fontsize)\n",
        "    ax.tick_params(labelsize=fontsize)\n",
        "    ax.grid(True)\n",
        "    plt.show()\n",
        "\n",
        "interact(plot_quadratic, a=(-5, 5, 0.5), b=(-5, 5, 0.5), c=(-5, 5, 0.5), figsize=(5, 20), linewidth=(0.5, 5, 0.5), fontsize=(10, 20, 2));"
      ],
      "metadata": {
        "colab": {
          "base_uri": "https://localhost:8080/",
          "height": 0,
          "referenced_widgets": [
            "31cf3536996b4b0089758355b136e785",
            "8033dfaeff634fb3b71f4a0e69971284",
            "2f8bd259d71942afa4d6110f3cce3f38",
            "df716330eb37479da779a3b0d5cceeb3",
            "fd5ca9930e0c4e0d9c21ff4987d79b24",
            "315ed807c33147ae891c288a4a4c2d4b",
            "e08d8f1b066f4bf1a603b75d82d1e246",
            "270e8cdbf34b4e2ba77e5999b32211f9",
            "da1935fedbff4fc49ac89e91a76cafc6",
            "015a90f5fd644bd9b7a7b4caa8ed4570",
            "fcf2198fb9e24288bac7b4f5175bea12",
            "9c4a61044362486f90c7f3cd168a5a1b",
            "a82c84d5460143ab9c14e843ad8a4bdb",
            "5139be22ec734b4e9092fc31e4e04365",
            "1a8de915ade843cfb9da03bc8d914bad",
            "338bef00e25c47fca1237df448658dfc",
            "eaa0797df0e546baa59ee72b0906ee6c",
            "2ea00bbd36834cb580d05a5f79462db3",
            "ff9fbc1d948042238ba353e364b249cf",
            "3d5ff14a44d94cd08791017d9045c145",
            "ef1a6ca3e1ea4421b53b107a1fbb87d0",
            "9077145acc544923842d2c738c85dfe9"
          ]
        },
        "id": "Jkow8OFwUtNG",
        "outputId": "41ff4fb4-af82-41b3-86ce-0e68d9d82778"
      },
      "execution_count": 64,
      "outputs": [
        {
          "output_type": "display_data",
          "data": {
            "text/plain": [
              "interactive(children=(FloatSlider(value=0.0, description='a', max=5.0, min=-5.0, step=0.5), FloatSlider(value=…"
            ],
            "application/vnd.jupyter.widget-view+json": {
              "version_major": 2,
              "version_minor": 0,
              "model_id": "31cf3536996b4b0089758355b136e785"
            }
          },
          "metadata": {}
        }
      ]
    },
    {
      "cell_type": "markdown",
      "source": [
        "#### **Função Exponencial**\n",
        "\n",
        "# $$f(x) = ae^{bx + c}$$\n"
      ],
      "metadata": {
        "id": "zGKR7ERgUk-M"
      }
    },
    {
      "cell_type": "code",
      "source": [
        "import numpy as np\n",
        "import matplotlib.pyplot as plt\n",
        "from ipywidgets import interact\n",
        "\n",
        "def plot_exponential(a, b, c, figsize, linewidth, fontsize, grid):\n",
        "    fig, ax = plt.subplots(figsize=(figsize,figsize))\n",
        "    x = np.linspace(-10, 10, num=100)\n",
        "    y = a * np.exp(b * x) + c\n",
        "    ax.plot(x, y, linewidth=linewidth)\n",
        "    ax.set_xlabel(\"X\", fontsize=fontsize)\n",
        "    ax.set_ylabel(\"Y\", fontsize=fontsize)\n",
        "    ax.tick_params(labelsize=fontsize)\n",
        "    ax.grid(grid)\n",
        "    plt.show()\n",
        "\n",
        "interact(plot_exponential, a=(-5, 5, 0.5), b=(-5, 5, 0.1), c=(-5, 5, 0.5), figsize=(5, 20), linewidth=(0.5, 5, 0.5), fontsize=(10, 20, 2), grid=False);"
      ],
      "metadata": {
        "colab": {
          "base_uri": "https://localhost:8080/",
          "height": 0,
          "referenced_widgets": [
            "e98e5f6c79af4b59bdb204a76ba6f5f3",
            "a90628ec61ad4bed9e5e82d2d749b79b",
            "ff2c1776f2c94e248a8b40631c63dfe5",
            "7a0d05918bb74190a76fa1585dc96b94",
            "d4a3c0e9efbd492d8e68232996cb863a",
            "ad5ce9f50aea4757af3947380a29999d",
            "96c7a0ac04064594991282975228f2c6",
            "29fbbd2a64964ad6ba48b1f8b77e1500",
            "d2b145f792834fff98cdbc9e0ef4aff9",
            "740597bf1e5c40bf86be988c57128824",
            "316f2f96f23149da83dde77b1697c33d",
            "736bee8ecd53485496fe39d64c0ba4b8",
            "e36dc142d974457a81a8edc65350b893",
            "1c06eb81715f4a5fa1d24747a2f35f59",
            "a3b451fb49d54eecba321da98b41cbe7",
            "d6683b8a83134ebfa45e1c4451e36656",
            "e4ba216db3194c389843dfbc08507a0d",
            "a1d5d74e5e5c4e259b6cf6604a90b828",
            "e0d6ec9eb96c43d880e404b097850567",
            "bbe4baa882484cc095134bc4961bd347",
            "19c34b6c767d4fbaa3e7dac9cd2503da",
            "256b79c71ba045c3a81aae470d4f8166",
            "1296a061278a46e788f03e6aee3c08b5",
            "8c17778467bf4f36b8ed037702dca63a",
            "4b81380bb4844efb9268ba71292d4ead"
          ]
        },
        "id": "2ptmi04KU-H7",
        "outputId": "fa36cdde-ec95-4cbd-f10e-d92c450277ca"
      },
      "execution_count": 65,
      "outputs": [
        {
          "output_type": "display_data",
          "data": {
            "text/plain": [
              "interactive(children=(FloatSlider(value=0.0, description='a', max=5.0, min=-5.0, step=0.5), FloatSlider(value=…"
            ],
            "application/vnd.jupyter.widget-view+json": {
              "version_major": 2,
              "version_minor": 0,
              "model_id": "e98e5f6c79af4b59bdb204a76ba6f5f3"
            }
          },
          "metadata": {}
        }
      ]
    },
    {
      "cell_type": "markdown",
      "source": [
        "#### **Função Gaussiana**\n",
        "\n",
        "# $$f(x) = \\frac{1}{\\sigma \\sqrt{2\\pi}} e^{-\\frac{(x - \\mu)^2}{2\\sigma^2}}$$"
      ],
      "metadata": {
        "id": "7ItuTr-fVIKU"
      }
    },
    {
      "cell_type": "code",
      "source": [
        "import numpy as np\n",
        "import matplotlib.pyplot as plt\n",
        "from ipywidgets import interact\n",
        "\n",
        "def plot_gaussian(mean, std, figsize, linewidth, fontsize):\n",
        "    fig, ax = plt.subplots(figsize=(figsize,figsize))\n",
        "    x = np.linspace(-5, 5, num=100)\n",
        "    y = 1 / (std * np.sqrt(2 * np.pi)) * np.exp(- (x - mean)**2 / (2 * std**2))\n",
        "    ax.plot(x, y, linewidth=linewidth)\n",
        "    ax.set_xlabel(\"x\", fontsize=fontsize)\n",
        "    ax.set_ylabel(\"f(x)\", fontsize=fontsize)\n",
        "    ax.tick_params(labelsize=fontsize)\n",
        "    ax.grid(True)\n",
        "    plt.show()\n",
        "\n",
        "interact(plot_gaussian, mean=(-5, 5, 0.5), std=(0.1, 5, 0.1), figsize=(5, 20), linewidth=(0.5, 5, 0.5), fontsize=(10, 20, 2));"
      ],
      "metadata": {
        "colab": {
          "base_uri": "https://localhost:8080/",
          "height": 882,
          "referenced_widgets": [
            "f25200bcaf694153961434d589209cab",
            "aaa6c24f12a74f65a3eee9ea2da52172",
            "b6956f92d44e4ec1b3a63668f2261ae2",
            "233ae928853646078ad0d450900fd8bf",
            "62c553d36efd4b64847e291c77b2942b",
            "72303fbea6d44c46aedbc16768c81316",
            "219004d919c5444cb4bec49fb03f11fa",
            "9f22a43d4f8e466dadf6aee327f4f20d",
            "3e08648ffac94538a7011397076c8aa2",
            "d1e89024e44b4e8d8e0f378c68de59c1",
            "880eccf150df4c339c04434274cf84f3",
            "f8ba0c9249334a2cbf93a702feb18db9",
            "75a7b9005a5e4aef967aa8955fceab0b",
            "6c1c27ee5cbe4c31913212fcb2607300",
            "72a00e883d334895aa4b2285817c8fa7",
            "b4a356754e92421fb04bac273f8ece16",
            "3e466aabf00948d59ab336ada4d36048",
            "e89cecad316f4189bf9d3dc64ad7ffd4",
            "23853fce218d42ce8bf1ae510c7f4f8d"
          ]
        },
        "id": "0Z8ZIGJ3VSvy",
        "outputId": "a01891cd-2de2-4a5d-b9f6-50272f0a17fa"
      },
      "execution_count": 66,
      "outputs": [
        {
          "output_type": "display_data",
          "data": {
            "text/plain": [
              "interactive(children=(FloatSlider(value=0.0, description='mean', max=5.0, min=-5.0, step=0.5), FloatSlider(val…"
            ],
            "application/vnd.jupyter.widget-view+json": {
              "version_major": 2,
              "version_minor": 0,
              "model_id": "f25200bcaf694153961434d589209cab"
            }
          },
          "metadata": {}
        }
      ]
    },
    {
      "cell_type": "markdown",
      "source": [
        "#### **Funções Trigonométricas**"
      ],
      "metadata": {
        "id": "9VHUVoWId5zi"
      }
    },
    {
      "cell_type": "code",
      "source": [
        "x = arange(0,2*pi,0.1)\n",
        "y = sin(x)\n",
        "z = cos(x)\n",
        "\n",
        "figure(1)\n",
        "plot(x,y,label=\"sin\", linewidth=5,color=\"blue\")\n",
        "plot(x,z,label=\"cos\", linewidth=5,color=\"red\")\n",
        "ylim([-1.5,1.5])\n",
        "title(\"Funções Trigonométricas\")\n",
        "text(0.5,0.5,\"um texto\")\n",
        "xlabel(\"x\")\n",
        "ylabel(\"f\")\n",
        "minorticks_on()\n",
        "grid(visible=True, which=\"major\", color=\"#666666\", linestyle=\"-\")\n",
        "grid(visible=True, which=\"minor\", color=\"#999999\", linestyle=\"-\", alpha=0.5)\n",
        "legend()\n",
        "show()"
      ],
      "metadata": {
        "colab": {
          "base_uri": "https://localhost:8080/",
          "height": 295
        },
        "id": "aTP3Val8d3f_",
        "outputId": "cd0d13a2-5e5c-4488-e4b3-5cf1a5d7df8d"
      },
      "execution_count": 75,
      "outputs": [
        {
          "output_type": "display_data",
          "data": {
            "text/plain": [
              "<Figure size 432x288 with 1 Axes>"
            ],
            "image/png": "[encoded data removed]"
          },
          "metadata": {
            "needs_background": "light"
          }
        }
      ]
    },
    {
      "cell_type": "markdown",
      "source": [
        "### **Matrizes**"
      ],
      "metadata": {
        "id": "EQShJmmVbsgC"
      }
    },
    {
      "cell_type": "markdown",
      "source": [
        "#### **Multiplicação de matrizes**\n",
        "\n",
        "Exemplo semelhante ao feito passo a passo no caderno. "
      ],
      "metadata": {
        "id": "q_MDGFhabxYW"
      }
    },
    {
      "cell_type": "code",
      "source": [
        "import numpy as np\n",
        "import matplotlib.pyplot as plt\n",
        "from pylab import *   \n",
        "\n",
        "# Definição das matrizes \n",
        "A = array([[4,5,6],\n",
        "           [7,8,9]])\n",
        "\n",
        "B = array([[10,20],\n",
        "     [30,40],\n",
        "     [50,60]])\n",
        "\n",
        "# Multiplicação das matrizes \n",
        "C = A @ B\n",
        "print(C)"
      ],
      "metadata": {
        "colab": {
          "base_uri": "https://localhost:8080/"
        },
        "id": "HLrbZc8ub38T",
        "outputId": "53d487bd-3be3-4080-8239-730a32e675e1"
      },
      "execution_count": 71,
      "outputs": [
        {
          "output_type": "stream",
          "name": "stdout",
          "text": [
            "[[ 490  640]\n",
            " [ 760 1000]]\n"
          ]
        }
      ]
    },
    {
      "cell_type": "markdown",
      "source": [
        "#### **Matriz inversa**"
      ],
      "metadata": {
        "id": "ScjasMBBdbuZ"
      }
    },
    {
      "cell_type": "code",
      "source": [
        "import numpy as np\n",
        "import matplotlib.pyplot as plt\n",
        "from pylab import *\n",
        "\n",
        "A = array([[1,2,3],[4,5,6],[1,0,3]])\n",
        "\n",
        "if det(A) != 0:\n",
        "    iA = inv(A)\n",
        "else:\n",
        "    print(\"Não existe inversa\")\n",
        "\n",
        "print(A@iA)"
      ],
      "metadata": {
        "colab": {
          "base_uri": "https://localhost:8080/"
        },
        "id": "G9FeQJ_qczrM",
        "outputId": "3def580c-7108-47ab-ac80-78b6b4afaedd"
      },
      "execution_count": 73,
      "outputs": [
        {
          "output_type": "stream",
          "name": "stdout",
          "text": [
            "[[ 1.00000000e+00  2.77555756e-17  0.00000000e+00]\n",
            " [-2.22044605e-16  1.00000000e+00  0.00000000e+00]\n",
            " [-1.11022302e-16  2.77555756e-17  1.00000000e+00]]\n"
          ]
        }
      ]
    }
  ]
}